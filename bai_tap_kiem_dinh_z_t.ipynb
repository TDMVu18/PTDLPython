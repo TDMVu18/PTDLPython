{
  "cells": [
    {
      "cell_type": "markdown",
      "metadata": {
        "id": "view-in-github",
        "colab_type": "text"
      },
      "source": [
        "<a href=\"https://colab.research.google.com/github/TDMVu18/PTDLPython/blob/main/bai_tap_kiem_dinh_z_t.ipynb\" target=\"_parent\"><img src=\"https://colab.research.google.com/assets/colab-badge.svg\" alt=\"Open In Colab\"/></a>"
      ]
    },
    {
      "cell_type": "markdown",
      "metadata": {
        "id": "M6ztLRPH2Whq"
      },
      "source": [
        "XÂY DỰNG CHƯƠNG TRÌNH KIỂM ĐỊNH Z (HOẶC T) CHO CÁC BÀI TẬP SAU\n",
        "\n",
        "Gợi ý:\n",
        "\n",
        "- Số liệu được sinh ngẫu nhiên theo phân phối chuẩn\n",
        "- Sử dụng gói phần mềm statsmodels để tiến hành kiểm định\n",
        "- Đối với các bài tập kiểm định giả thuyết thì sinh viên cần phát biểu các giả thuyết (bằng tiếng Việt) $H_{0}$ và $H_{a}$ trước khi lập trình kiểm định"
      ]
    },
    {
      "cell_type": "code",
      "source": [
        "from statsmodels.stats.weightstats import ztest\n",
        "import numpy as np\n",
        "import random\n",
        "from scipy import stats as st\n",
        "from statsmodels.stats.weightstats import ttest_ind\n"
      ],
      "metadata": {
        "id": "WKFVac3Y2mOn",
        "outputId": "ba058999-5b24-4d8e-c485-d3293e4f86f6",
        "colab": {
          "base_uri": "https://localhost:8080/"
        }
      },
      "execution_count": 14,
      "outputs": [
        {
          "output_type": "stream",
          "name": "stdout",
          "text": [
            "Requirement already satisfied: scipy in /usr/local/lib/python3.7/dist-packages (1.7.3)\n",
            "Requirement already satisfied: numpy<1.23.0,>=1.16.5 in /usr/local/lib/python3.7/dist-packages (from scipy) (1.21.5)\n"
          ]
        }
      ]
    },
    {
      "cell_type": "code",
      "source": [
        "!pip install --upgrade scipy\n",
        "import scipy\n",
        "scipy.version.version"
      ],
      "metadata": {
        "id": "WWvIJPLK2vQJ",
        "outputId": "350ce2aa-b65e-43c8-e543-2c7e9f4ee52d",
        "colab": {
          "base_uri": "https://localhost:8080/",
          "height": 70
        }
      },
      "execution_count": 24,
      "outputs": [
        {
          "output_type": "stream",
          "name": "stdout",
          "text": [
            "Requirement already satisfied: scipy in /usr/local/lib/python3.7/dist-packages (1.7.3)\n",
            "Requirement already satisfied: numpy<1.23.0,>=1.16.5 in /usr/local/lib/python3.7/dist-packages (from scipy) (1.21.5)\n"
          ]
        },
        {
          "output_type": "execute_result",
          "data": {
            "text/plain": [
              "'1.4.1'"
            ],
            "application/vnd.google.colaboratory.intrinsic+json": {
              "type": "string"
            }
          },
          "metadata": {},
          "execution_count": 24
        }
      ]
    },
    {
      "cell_type": "markdown",
      "metadata": {
        "id": "Q8JkNugx2Whz"
      },
      "source": [
        "Bài 1: You’re a Q/C inspector for Gallo. The sample standard deviation for 2-liter bottles is .05 liters.  A random sample of 100 bottles showed sasmple mean = 1.99 liters.  What is the 90%  confidence interval estimate of the true mean amount in 2-liter bottles? \n",
        "\n",
        "Ho: μ = 2 H1: μ ≠ 2 σ = 0.05 α = 0.1 n = 100\n",
        "\n"
      ]
    },
    {
      "cell_type": "code",
      "execution_count": 25,
      "metadata": {
        "id": "snvMVjKa2Wh1",
        "outputId": "2d90ce16-7916-41d8-8190-4cba87c24509",
        "colab": {
          "base_uri": "https://localhost:8080/"
        }
      },
      "outputs": [
        {
          "output_type": "stream",
          "name": "stdout",
          "text": [
            "The sample mean of 2 has a 90% confidence interval: (1.9177573186524264, 2.082242681347574)\n"
          ]
        }
      ],
      "source": [
        "#Code here\n",
        "n = 100\n",
        "null_mean = 2\n",
        "alpha = 0.1\n",
        "sigma = 0.05\n",
        "np.random.seed(n)\n",
        "samples = np.random.normal(1.99, sigma, n)\n",
        "print(f'The sample mean of {null_mean} has a 90% confidence '\n",
        "      f'interval:',st.norm.interval(1-alpha, loc=null_mean, scale=sigma))"
      ]
    },
    {
      "cell_type": "markdown",
      "metadata": {
        "id": "HdHM-ygG2Wh4"
      },
      "source": [
        "Bài 2: You’re a time study analyst in manufacturing.  You’ve recorded the following task times (min.): 3.6, 4.2, 4.0, 3.5, 3.8, 3.1. What is the 90% confidence interval estimate of the population mean task time? "
      ]
    },
    {
      "cell_type": "code",
      "execution_count": 26,
      "metadata": {
        "id": "4gPRS_Jg2Wh5",
        "outputId": "c1364ee8-bf4d-4f11-e690-f033777a36dc",
        "colab": {
          "base_uri": "https://localhost:8080/"
        }
      },
      "outputs": [
        {
          "output_type": "stream",
          "name": "stdout",
          "text": [
            "The sample mean of 3.7000000000000006 has a 90% confidence interval: (3.114592303730054, 4.285407696269947)\n"
          ]
        }
      ],
      "source": [
        "#Code here\n",
        "a = np.array([3.6, 4.2, 4.0, 3.5, 3.8, 3.1])\n",
        "# xác định các thông số:\n",
        "alpha = 0.1\n",
        "sigma = np.std(a)\n",
        "null_mean = np.mean(a)\n",
        "print(f'The sample mean of {null_mean} has a 90% confidence '\n",
        "      f'interval:',st.norm.interval(1-alpha, loc=null_mean, scale=sigma))"
      ]
    },
    {
      "cell_type": "markdown",
      "metadata": {
        "id": "PrXUJTqX2Wh6"
      },
      "source": [
        "Bài 3: Does an average box of cereal contain 368 grams of cereal?  A random sample of 25 boxes had $\\overline{\\rm x}$ = 372.5.  The company has specified $\\sigma$ to be 25 grams.  Test at the .05 level of significance.\n",
        "\n",
        "Ho: μ = 368 H1: μ ≠ 368 σ = 25 α = 0.05 n = 25\n",
        "\n"
      ]
    },
    {
      "cell_type": "code",
      "execution_count": 27,
      "metadata": {
        "id": "PwwQ_T7_2Wh8",
        "outputId": "74550002-2e7d-420d-f34b-84e7c42d2c99",
        "colab": {
          "base_uri": "https://localhost:8080/"
        }
      },
      "outputs": [
        {
          "output_type": "stream",
          "name": "stdout",
          "text": [
            "t =  0.5814754471682904 , p =  0.5663419024687834\n",
            "Chưa có bằng chứng để bác bỏ giả thuyết H0\n"
          ]
        }
      ],
      "source": [
        "#Code here\n",
        "# Lấy mẫu\n",
        "n = 25\n",
        "sigma = 25\n",
        "np.random.seed(n)\n",
        "samples = np.random.normal(372.5, sigma, n)\n",
        "null_mean=368\n",
        "alpha = 0.05\n",
        "# Kiểm định\n",
        "# Vì số phần tử n = 25 (<30) nên sử dụng kiểm định t\n",
        "ttest_Score, p_value = st.ttest_1samp(samples, null_mean)\n",
        "print('t = ',ttest_Score,', p = ',p_value)\n",
        "if(p_value <  alpha):\n",
        "  print(\"Có bằng chứng để bác bỏ giả thuyết H0\")\n",
        "else:\n",
        "  print(\"Chưa có bằng chứng để bác bỏ giả thuyết H0\")"
      ]
    },
    {
      "cell_type": "markdown",
      "metadata": {
        "id": "sy0qJA6k2Wh9"
      },
      "source": [
        "Bài 4: You’re a Q/C inspector.  You want to find out if a new machine is making electrical cords to customer specification: average breaking strength of 70 lb. with $\\sigma$ = 3.5 lb.  You take a sample of 36 cords & compute a sample mean of 69.7 lb.  At the .05 level of significance, is there evidence that the machine is not meeting the average breaking strength?\n",
        "\n",
        "Ho: μ = 70; H1: μ ≠ 70; $\\overline{\\rm x}$ = 69.7; σ = 3.5; α = 0.05; n = 36;"
      ]
    },
    {
      "cell_type": "code",
      "execution_count": 28,
      "metadata": {
        "id": "ZDqbI6qJ2Wh_",
        "outputId": "fa9af0ea-dfc6-425b-806d-cd3592d28a8b",
        "colab": {
          "base_uri": "https://localhost:8080/"
        }
      },
      "outputs": [
        {
          "output_type": "stream",
          "name": "stdout",
          "text": [
            "z =  -1.6996733839915792 ; p =  0.08919237844369493\n",
            "Chưa có bằng chứng để bác bỏ giả thuyết H0\n"
          ]
        }
      ],
      "source": [
        "#Code here\n",
        "# Xác định thông số \n",
        "alpha = 0.05\n",
        "null_mean = 70\n",
        "n = 36\n",
        "sigma = 3.5\n",
        "np.random.seed(n)\n",
        "# Sinh ngẫu nhiên một mẫu 36 phần tử có trung bình mẫu là 69.7 độ lệch chuẩn là 3.5\n",
        "samples = np.random.normal(69.7,sigma,n)\n",
        "# Kiểm định z\n",
        "ztest_Score, p_value= ztest(samples, value = null_mean, alternative='two-sided')\n",
        "print('z = ', ztest_Score, '; p = ', p_value)\n",
        "if (p_value <  alpha):\n",
        "  print(\"Có bằng chứng để bác bỏ giả thuyết H0\")\n",
        "else:\n",
        "  print(\"Chưa có bằng chứng để bác bỏ giả thuyết H0\")\n"
      ]
    },
    {
      "cell_type": "markdown",
      "metadata": {
        "id": "8t4WUUf62WiA"
      },
      "source": [
        "Bài 5: Does an average box of cereal contain more than 368 grams of cereal?  A random sample of 25 boxes showed $\\overline{\\rm x}$ =  372.5.  The company has specified $\\sigma$ to be 25 grams.  Test at the .05 level of significance.\n",
        "\n",
        "Ho: μ = 368; H1: μ > 368; $\\overline{\\rm x}$ = 372.5; σ = 25; α = 0.05; n = 25;"
      ]
    },
    {
      "cell_type": "code",
      "execution_count": 32,
      "metadata": {
        "id": "abOK6in02WiC",
        "outputId": "55da25af-66e3-4f5b-9fc9-c08ce7cdc45f",
        "colab": {
          "base_uri": "https://localhost:8080/"
        }
      },
      "outputs": [
        {
          "output_type": "stream",
          "name": "stdout",
          "text": [
            "t =  -0.058346923092645754 , p =  0.9539553884200214\n",
            "Chưa có bằng chứng để bác bỏ giả thuyết H0\n"
          ]
        }
      ],
      "source": [
        "#Code here\n",
        "# Xác định thông số \n",
        "alpha = 0.05\n",
        "null_mean = 372.5\n",
        "n = 25\n",
        "sigma = 25\n",
        "np.random.seed(n)\n",
        "# Sinh ngẫu nhiên một mẫu 25 phần tử có trung bình mẫu là 372.5 độ lệch chuẩn là 25\n",
        "samples = np.random.normal(null_mean,sigma,n)\n",
        "# Vì số phần tử n = 25 (<30) nên sử dụng kiểm định t\n",
        "ttest_Score, p_value = st.ttest_1samp(samples, null_mean)\n",
        "print('t = ',ttest_Score,', p = ',p_value)\n",
        "if(p_value <  alpha) and (ttest_Score > 0) :\n",
        "  print(\"Có bằng chứng để bác bỏ giả thuyết H0\")\n",
        "else:\n",
        "  print(\"Chưa có bằng chứng để bác bỏ giả thuyết H0\")"
      ]
    },
    {
      "cell_type": "markdown",
      "metadata": {
        "id": "2OfhFM4o2WiC"
      },
      "source": [
        "Bài 6: You’re an analyst for Ford.  You want to find out if the average miles per gallon of Escorts is at least 32 mpg. Similar models have a standard deviation of 3.8 mpg. You take a sample of 60 Escorts & compute a sample mean of 30.7 mpg. At the .01 level of significance, is there evidence that the miles per gallon is less than 32?\n",
        "\n",
        "Ho: μ = 32; H1: μ < 32;  $\\overline{\\rm x}$ = 30.7; σ = 3.8; α = 0.01; n = 60;"
      ]
    },
    {
      "cell_type": "code",
      "execution_count": 33,
      "metadata": {
        "id": "kclOmdxm2WiD",
        "outputId": "ee96eb2a-e5ec-448c-e07c-31d79babd14f",
        "colab": {
          "base_uri": "https://localhost:8080/"
        }
      },
      "outputs": [
        {
          "output_type": "stream",
          "name": "stdout",
          "text": [
            "z =  -2.7764508942801975 ; p =  0.002747796796634357\n",
            "Có bằng chứng để bác bỏ giả thuyết H0\n"
          ]
        }
      ],
      "source": [
        "#Code here\n",
        "# Xác định thông số \n",
        "alpha = 0.01\n",
        "null_mean = 32\n",
        "mean = 30.7\n",
        "n = 60\n",
        "sigma = 3.8\n",
        "np.random.seed(n)\n",
        "# Sinh ngẫu nhiên một mẫu 60 phần tử có trung bình mẫu là 30.7 độ lệch chuẩn là 3.8\n",
        "samples = np.random.normal(mean,sigma,n)\n",
        "# Kiểm định z\n",
        "ztest_Score, p_value= ztest(samples, value = null_mean, alternative='smaller')\n",
        "print('z = ', ztest_Score, '; p = ', p_value)\n",
        "if (p_value <  alpha):\n",
        "  print(\"Có bằng chứng để bác bỏ giả thuyết H0\")\n",
        "else:\n",
        "  print(\"Chưa có bằng chứng để bác bỏ giả thuyết H0\")"
      ]
    },
    {
      "cell_type": "markdown",
      "metadata": {
        "id": "67Juc0Ip2WiE"
      },
      "source": [
        "Bài 7: Does an average box of cereal contain 368 grams of cereal?  A random sample of 25 boxes showed $\\overline{\\rm x}$ = 372.5.  The company has specified $\\sigma$ to be 15 grams.  Find the p-Value."
      ]
    },
    {
      "cell_type": "code",
      "execution_count": 39,
      "metadata": {
        "id": "9HYK-JG82WiF",
        "outputId": "28dcf902-bd47-4d07-9eee-cbe1035e7c21",
        "colab": {
          "base_uri": "https://localhost:8080/"
        }
      },
      "outputs": [
        {
          "output_type": "stream",
          "name": "stdout",
          "text": [
            " p =  0.3234986472279451\n"
          ]
        }
      ],
      "source": [
        "#Code here\n",
        "# Xác định thông số\n",
        "n = 25\n",
        "mean = 372.5\n",
        "sigma = 15\n",
        "null_mean = 368\n",
        "# Sinh ngẫu nhiên 1 mẫu 25 phần tử có trung bình mẫu là 372.5, độ lệch chuẩn là 15\n",
        "np.random.seed(n)\n",
        "samples = np.random.normal(mean,sigma, n)\n",
        "# Vì số phần tử n = 25 (<30) nên sử dụng kiểm định t\n",
        "ttest_Score, p_value = st.ttest_1samp(samples, null_mean)\n",
        "print(' p = ',p_value)"
      ]
    },
    {
      "cell_type": "markdown",
      "metadata": {
        "id": "EaRinh1-2WiG"
      },
      "source": [
        "Bài 8: Does an average box of cereal contain more than 368 grams of cereal?  A random sample of 25 boxes showed $\\overline{\\rm x}$ = 372.5.  The company has specified $\\sigma$ to be 15 grams.  Find the p-Value."
      ]
    },
    {
      "cell_type": "code",
      "execution_count": 40,
      "metadata": {
        "id": "khIGivM92WiH",
        "outputId": "3ecffa1d-9785-4cba-c78c-2f0ce822db07",
        "colab": {
          "base_uri": "https://localhost:8080/"
        }
      },
      "outputs": [
        {
          "output_type": "stream",
          "name": "stdout",
          "text": [
            " p =  0.3234986472279451\n"
          ]
        }
      ],
      "source": [
        "#Code here\n",
        "# Xác định thông số\n",
        "n = 25\n",
        "mean = 372.5\n",
        "sigma = 15\n",
        "null_mean = 368\n",
        "# Sinh ngẫu nhiên 1 mẫu 25 phần tử có trung bình mẫu là 372.5, độ lệch chuẩn là 15\n",
        "np.random.seed(n)\n",
        "samples = np.random.normal(mean,sigma, n)\n",
        "# Vì số phần tử n = 25 (<30) nên sử dụng kiểm định t\n",
        "ttest_Score, p_value = st.ttest_1samp(samples, null_mean)\n",
        "print(' p = ',p_value)"
      ]
    },
    {
      "cell_type": "markdown",
      "metadata": {
        "id": "nWoJzAi72WiH"
      },
      "source": [
        "Bài 9: You’re an analyst for Ford.  You want to find out if the average miles per gallon of Escorts is less than 32 mpg.   Similar models have a standard deviation of 3.8 mpg.  You take a sample of 60 Escorts & compute a sample mean of 30.7 mpg.  What is the value of the observed level of significance (p-Value)?"
      ]
    },
    {
      "cell_type": "code",
      "execution_count": 41,
      "metadata": {
        "id": "b1nbeNjN2WiI",
        "outputId": "7b384a25-5fa9-43e4-9a00-3c7c2988d9d1",
        "colab": {
          "base_uri": "https://localhost:8080/"
        }
      },
      "outputs": [
        {
          "output_type": "stream",
          "name": "stdout",
          "text": [
            "z =  -2.7764508942801975 ; p =  0.002747796796634357\n"
          ]
        }
      ],
      "source": [
        "#Code here\n",
        "# Xác định thông số \n",
        "alpha = 0.01\n",
        "null_mean = 32\n",
        "mean = 30.7\n",
        "n = 60\n",
        "sigma = 3.8\n",
        "np.random.seed(n)\n",
        "# Sinh ngẫu nhiên một mẫu 60 phần tử có trung bình mẫu là 30.7 độ lệch chuẩn là 3.8\n",
        "samples = np.random.normal(mean,sigma,n)\n",
        "# Kiểm định z\n",
        "ztest_Score, p_value= ztest(samples, value = null_mean, alternative='smaller')\n",
        "print('z = ', ztest_Score, '; p = ', p_value)"
      ]
    },
    {
      "cell_type": "markdown",
      "metadata": {
        "id": "KG25c3572WiI"
      },
      "source": [
        "Bài 10: Does an average box of cereal contain 368 grams of cereal?  A random sample of 36 boxes had a mean of 372.5 and a standard deviation of 12 grams. Test at the .05 level of significance."
      ]
    },
    {
      "cell_type": "code",
      "execution_count": 42,
      "metadata": {
        "id": "-bd5kJj52WiJ",
        "outputId": "7cec9df8-70cf-4a03-a198-36113bbb7b56",
        "colab": {
          "base_uri": "https://localhost:8080/"
        }
      },
      "outputs": [
        {
          "output_type": "stream",
          "name": "stdout",
          "text": [
            "z =  0.7872015191391006 ; p =  0.43116390809192284\n",
            "Chưa có bằng chứng để bác bỏ giả thuyết H0\n"
          ]
        }
      ],
      "source": [
        "#Code here\n",
        "# Lấy mẫu\n",
        "n = 36\n",
        "sigma = 12\n",
        "np.random.seed(n)\n",
        "mean = 372.5\n",
        "samples = np.random.normal(mean, sigma, n)\n",
        "null_mean=368\n",
        "alpha = 0.05\n",
        "# Kiểm định z\n",
        "ztest_Score, p_value= ztest(samples, value = null_mean, alternative='two-sided')\n",
        "print('z = ', ztest_Score, '; p = ', p_value)\n",
        "if(p_value <  alpha):\n",
        "  print(\"Có bằng chứng để bác bỏ giả thuyết H0\")\n",
        "else:\n",
        "  print(\"Chưa có bằng chứng để bác bỏ giả thuyết H0\")"
      ]
    },
    {
      "cell_type": "markdown",
      "metadata": {
        "id": "bBqfjjun2WiJ"
      },
      "source": [
        "Bài 11: You work for the FTC.  A manufacturer of detergent claims that the mean weight of detergent is 3.25 lb.  You take a random sample of 64 containers.  You calculate the sample average to be 3.238 lb. with a standard deviation of .117 lb.  At the .01 level of significance, is the manufacturer correct?"
      ]
    },
    {
      "cell_type": "code",
      "execution_count": 43,
      "metadata": {
        "id": "pemgdSpf2WiJ",
        "outputId": "4c4e701a-8c90-431e-f5b3-9238081a3eae",
        "colab": {
          "base_uri": "https://localhost:8080/"
        }
      },
      "outputs": [
        {
          "output_type": "stream",
          "name": "stdout",
          "text": [
            "z =  -0.6863509915881659 ; p =  0.7537540994769646\n",
            "Chưa có bằng chứng để bác bỏ giả thuyết H0\n"
          ]
        }
      ],
      "source": [
        "#Code here\n",
        "alpha = 0.01\n",
        "null_mean = 3.25\n",
        "#Sinh ngẫu nhiên một mẫu 64 phần tử có trung bình mẫu là 3.238, độ lệch chuẩn là 0.117\n",
        "samples = np.random.normal(3.238, 0.117, 64)\n",
        "ztest_Score, p_value= ztest(samples, value = null_mean, alternative='larger')\n",
        "print('z = ', ztest_Score, '; p = ', p_value)\n",
        "if (p_value <  alpha/2):\n",
        "  print(\"Có bằng chứng để bác bỏ giả thuyết H0\")\n",
        "else:\n",
        "  print(\"Chưa có bằng chứng để bác bỏ giả thuyết H0\")"
      ]
    },
    {
      "cell_type": "markdown",
      "metadata": {
        "id": "qdJr-E3Q2WiK"
      },
      "source": [
        "Bài 12: Is the average capacity of batteries less than 140 ampere-hours?  A random sample of 20 batteries had a mean of 138.47 and a standard deviation of 2.66.  Assume a normal distribution. Test at the .05 level of significance."
      ]
    },
    {
      "cell_type": "code",
      "execution_count": 44,
      "metadata": {
        "id": "FAah1K0R2WiK",
        "outputId": "93ef8eef-8eeb-4c4b-dde3-5e741086bdf7",
        "colab": {
          "base_uri": "https://localhost:8080/"
        }
      },
      "outputs": [
        {
          "output_type": "stream",
          "name": "stdout",
          "text": [
            "t =  -1.2392100603368381 , p =  0.23035771335063068\n",
            "Chưa có bằng chứng để bác bỏ giả thuyết H0\n"
          ]
        }
      ],
      "source": [
        "#Code here\n",
        "alpha = 0.05\n",
        "null_mean = 140\n",
        "#Sinh ngẫu nhiên một mẫu 20 phần tử có trung bình mẫu là 138.47, độ lệch chuẩn là 2.66\n",
        "samples = np.random.normal(138.47, 2.66, 20)\n",
        "#Kiểm định t\n",
        "ttest_Score, p_value = st.ttest_1samp(samples, null_mean)\n",
        "print('t = ',ttest_Score,', p = ',p_value)\n",
        "if(p_value <  alpha) and (ttest_Score>0):\n",
        "  print(\"Có bằng chứng để bác bỏ giả thuyết H0\")\n",
        "else:\n",
        "  print(\"Chưa có bằng chứng để bác bỏ giả thuyết H0\")"
      ]
    },
    {
      "cell_type": "markdown",
      "metadata": {
        "id": "SQpqijyf2WiK"
      },
      "source": [
        "Bài 13: You’re a marketing analyst for Wal-Mart.  Wal-Mart had teddy bears on sale last week.  The weekly sales of bears sold in 10 stores was: 8  11  0   4   7   8   10   5   8   3. At the .05 level of significance, is there evidence that the average bear sales per store is more than 5?"
      ]
    },
    {
      "cell_type": "code",
      "execution_count": 45,
      "metadata": {
        "id": "hQ20maRA2WiK",
        "outputId": "f5ac4db9-1a1a-489d-a6c9-b014a2c240e8",
        "colab": {
          "base_uri": "https://localhost:8080/"
        }
      },
      "outputs": [
        {
          "output_type": "stream",
          "name": "stdout",
          "text": [
            "t =  1.3125000000000004 , p =  0.2218341554238571\n",
            "Chưa có bằng chứng để bác bỏ giả thuyết H0\n"
          ]
        }
      ],
      "source": [
        "#Code here\n",
        "a = np.array([8,11,0,4,7,8,10,5,8,3])\n",
        "alpha = 0.05\n",
        "null_mean = 5\n",
        "#Kiểm định t\n",
        "ttest_Score, p_value = st.ttest_1samp(a, null_mean)\n",
        "print('t = ',ttest_Score,', p = ',p_value)\n",
        "if(p_value <  alpha) and (ttest_Score > 0):\n",
        "  print(\"Có bằng chứng để bác bỏ giả thuyết H0\")\n",
        "else:\n",
        "  print(\"Chưa có bằng chứng để bác bỏ giả thuyết H0\")"
      ]
    },
    {
      "cell_type": "code",
      "execution_count": null,
      "metadata": {
        "id": "jdlCFIKG2WiL"
      },
      "outputs": [],
      "source": [
        ""
      ]
    }
  ],
  "metadata": {
    "kernelspec": {
      "display_name": "Python 3",
      "language": "python",
      "name": "python3"
    },
    "language_info": {
      "codemirror_mode": {
        "name": "ipython",
        "version": 3
      },
      "file_extension": ".py",
      "mimetype": "text/x-python",
      "name": "python",
      "nbconvert_exporter": "python",
      "pygments_lexer": "ipython3",
      "version": "3.7.3"
    },
    "colab": {
      "name": "bai-tap-kiem-dinh-z-t.ipynb",
      "provenance": [],
      "include_colab_link": true
    }
  },
  "nbformat": 4,
  "nbformat_minor": 0
}