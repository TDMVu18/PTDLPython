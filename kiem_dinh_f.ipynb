{
  "cells": [
    {
      "cell_type": "markdown",
      "metadata": {
        "id": "view-in-github",
        "colab_type": "text"
      },
      "source": [
        "<a href=\"https://colab.research.google.com/github/TDMVu18/PTDLPython/blob/main/kiem_dinh_f.ipynb\" target=\"_parent\"><img src=\"https://colab.research.google.com/assets/colab-badge.svg\" alt=\"Open In Colab\"/></a>"
      ]
    },
    {
      "cell_type": "markdown",
      "metadata": {
        "id": "fp7pv4xQ91Ak"
      },
      "source": [
        "KIỂM ĐỊNH F\n",
        "\n",
        "Thay vì xây dựng giả thuyết với giá trị trung bình, người ta có thể xây dựng giả thuyết với phương sai (variance $\\sigma^{2}$). Trong trường hợp này, chúng ta sử dụng kiểm định F. Tóm tắt về kiểm định F như sau:\n",
        "\n",
        "Kiểm định một đuôi:\n",
        "\n",
        "$$H_{0}: \\sigma^{2} = \\sigma_{0}^{2} $$\n",
        "\n",
        "$$H_{a}: \\sigma^{2} < \\sigma_{0}^{2} (H_{a}: \\sigma^{2} > \\sigma_{0}^{2})$$ \n",
        "\n",
        "Giá trị thống kê kiểm định:\n",
        "\n",
        "$$ \\chi^{2} = \\frac{(n-1)s^{2}}{\\sigma_{0}^{2}}$$\n",
        "\n",
        "Vùng bác bỏ: $\\chi^{2} < \\chi_{(1 - \\alpha)}^{2}$  hoặc $\\chi^{2} > \\chi_{(1 - \\alpha)}^{2}$  khi $H_{a}: \\sigma^{2} > \\sigma_{0}^{2}$\n",
        "\n",
        "Ghi chú: \n",
        "\n",
        "- $\\chi^{2}$ - chi-square\n",
        "- (n - 1) mức tự do\n",
        "\n"
      ]
    },
    {
      "cell_type": "markdown",
      "metadata": {
        "id": "Mw_whj7N91Aw"
      },
      "source": [
        "Kiểm định 2 đuôi:\n",
        "\n",
        "$$H_{0}: \\sigma^{2} = \\sigma_{0}^{2}$$\n",
        "$$H_{a}:\\sigma^{2} \\neq \\sigma_{0}^{2} $$\n",
        "\n",
        "Giá trị thống kê kiểm định:\n",
        "\n",
        "$$ \\chi^{2} = \\frac{(n-1)s^{2}}{\\sigma_{0}^{2}}$$\n",
        "\n",
        "Vùng bác bỏ: $\\chi^{2} < \\chi_{(1 - \\alpha/2)}^{2}$  hoặc $\\chi^{2} > \\chi_{(\\alpha/2)}^{2}$  \n",
        "Ghi chú: \n",
        "\n",
        "- $\\chi^{2}$ - chi-square\n",
        "- (n - 1) mức tự do"
      ]
    },
    {
      "cell_type": "markdown",
      "metadata": {
        "id": "4TxIVVet91Az"
      },
      "source": [
        "THỰC HÀNH KIỂM ĐỊNH F\n",
        "\n",
        "Bước 1: Sinh ngẫu nhiên số liệu\n",
        "\n",
        "Bước 2: Xây dựng giả thuyết \n",
        "\n",
        "Bước 3: Kiểm định Bartlett "
      ]
    },
    {
      "cell_type": "code",
      "execution_count": 2,
      "metadata": {
        "id": "wnCkaMye91A1",
        "outputId": "03bf9e08-2baf-4b6d-99d3-d9e2a7a03ddb",
        "colab": {
          "base_uri": "https://localhost:8080/"
        }
      },
      "outputs": [
        {
          "output_type": "stream",
          "name": "stderr",
          "text": [
            "/usr/local/lib/python3.7/dist-packages/statsmodels/tools/_testing.py:19: FutureWarning: pandas.util.testing is deprecated. Use the functions in the public API at pandas.testing instead.\n",
            "  import pandas.util.testing as tm\n"
          ]
        }
      ],
      "source": [
        "import numpy as np\n",
        "import pandas as pd\n",
        "import random\n",
        "from scipy import stats\n",
        "from statsmodels.stats.weightstats import ztest\n",
        "import warnings\n",
        "import matplotlib.pyplot as plt\n",
        "import seaborn as sns\n",
        "%matplotlib inline"
      ]
    },
    {
      "cell_type": "code",
      "execution_count": 3,
      "metadata": {
        "id": "PoCecdvn91A4"
      },
      "outputs": [],
      "source": [
        "#Sinh ngẫu nhiên 1000 mẫu tuân theo phân phối chuẩn có trung bình mẫu là 7.5 và độ lệch chuẩn là 0.25\n",
        "mean_1 = 7.5\n",
        "std_1 = 0.25\n",
        "N_1 = 1000\n",
        "samples_1 = np.random.normal(mean_1, std_1, N_1)"
      ]
    },
    {
      "cell_type": "code",
      "execution_count": 4,
      "metadata": {
        "id": "Zwyp1dkj91A6",
        "outputId": "8767c052-93b3-4533-fee2-c255ffb1dfc6",
        "colab": {
          "base_uri": "https://localhost:8080/"
        }
      },
      "outputs": [
        {
          "output_type": "stream",
          "name": "stdout",
          "text": [
            "[7.66581811 6.99557206 7.65370239 7.62815518 7.67557201 7.73039038\n",
            " 7.49574116 6.91166827 7.93307177 7.32810915]\n"
          ]
        }
      ],
      "source": [
        "#In ra 10 phần tử đầu tiên\n",
        "print(samples_1[:10])"
      ]
    },
    {
      "cell_type": "code",
      "execution_count": 5,
      "metadata": {
        "id": "8XiBHBDm91A-"
      },
      "outputs": [],
      "source": [
        "#Sinh ngẫu nhiên 900 mẫu tuân theo phân phối chuẩn có trung bình mẫu là 7 và độ lệch chuẩn là 0.2\n",
        "mean_2= 7\n",
        "std_2 = 0.2\n",
        "N_2 = 900\n",
        "samples_2 = np.random.normal(mean_2, std_2, N_2)"
      ]
    },
    {
      "cell_type": "code",
      "execution_count": 6,
      "metadata": {
        "id": "kLjAOm5n91A_",
        "outputId": "766d60c5-8edc-443a-fd70-284e31a5ba7f",
        "colab": {
          "base_uri": "https://localhost:8080/"
        }
      },
      "outputs": [
        {
          "output_type": "stream",
          "name": "stdout",
          "text": [
            "[6.82209039 7.0445241  6.97307585 6.9532594  7.17036717 7.08320473\n",
            " 7.04824132 7.25246949 6.88376063 7.04364836]\n"
          ]
        }
      ],
      "source": [
        "#In ra 10 phần tử đầu tiên\n",
        "print(samples_2[:10])"
      ]
    },
    {
      "cell_type": "markdown",
      "metadata": {
        "id": "1yCh417d91BA"
      },
      "source": [
        "Xây dựng giả thuyết:\n",
        "$$H_{0}: \\sigma_{1}^{2} = \\sigma_{2}^{2}$$\n",
        "$$H_{a}: \\sigma_{1}^{2} \\neq \\sigma_{2}^{2}$$"
      ]
    },
    {
      "cell_type": "code",
      "execution_count": 7,
      "metadata": {
        "id": "n8nO7Osm91BA",
        "outputId": "aed2d285-7924-417c-a223-1ab15e8c86f4",
        "colab": {
          "base_uri": "https://localhost:8080/"
        }
      },
      "outputs": [
        {
          "output_type": "stream",
          "name": "stdout",
          "text": [
            "Stat value:  77.62883547345062 ; p-value:  1.2434154195937649e-18\n"
          ]
        }
      ],
      "source": [
        "#Kiểm định Bartlett\n",
        "stat_value, p_value = stats.bartlett(samples_1, samples_2)\n",
        "print(\"Stat value: \", stat_value, \"; p-value: \", p_value)"
      ]
    },
    {
      "cell_type": "code",
      "execution_count": 8,
      "metadata": {
        "id": "UVnEUL4v91BB",
        "outputId": "078a053e-c7e1-4fe2-fb5d-0491729e7897",
        "colab": {
          "base_uri": "https://localhost:8080/"
        }
      },
      "outputs": [
        {
          "output_type": "stream",
          "name": "stdout",
          "text": [
            "Có bằng chứng để bác bỏ giả thuyết H0\n"
          ]
        }
      ],
      "source": [
        "alpha = 0.05\n",
        "if(p_value <  alpha):\n",
        "  print(\"Có bằng chứng để bác bỏ giả thuyết H0\")\n",
        "else:\n",
        "  print(\"Chưa có bằng chứng để bác bỏ giả thuyết H0\")"
      ]
    },
    {
      "cell_type": "markdown",
      "metadata": {
        "id": "OuO-DdkS91BC"
      },
      "source": [
        "BÀI TẬP\n",
        "\n",
        "Bạn hãy thử viết code tiến hành kiểm định F 1 đuôi?\n",
        "\n",
        "Gợi ý: Thử tìm kiếm ví dụ về kiểm dịnh F 1 đuôi trong ngôn ngữ lập trình Python & R để nhận thấy sự khác biệt."
      ]
    },
    {
      "cell_type": "code",
      "execution_count": 9,
      "metadata": {
        "id": "GD_dT-0K91BC",
        "outputId": "70990961-acc5-4102-bdb7-fe18856dc08f",
        "colab": {
          "base_uri": "https://localhost:8080/"
        }
      },
      "outputs": [
        {
          "output_type": "stream",
          "name": "stdout",
          "text": [
            "Var_1:  239.57840327536422 Var_2:  146.53468150491216\n",
            "F:  1.6349604122033938 \n",
            "p_value:  0.9999999999999654\n",
            "alpha: 0.05\n",
            "Có bằng chứng để bác bỏ giả thuyết H0\n"
          ]
        }
      ],
      "source": [
        "#Code here\n",
        "samples_1 = np.random.normal(50, 15, 1000)\n",
        "samples_2 = np.random.normal(55, 12, 900)\n",
        "f = np.var(samples_1)/np.var(samples_2)\n",
        "df1 = len(samples_1) - 1\n",
        "df2 = len(samples_2) - 1\n",
        "alpha = 0.05\n",
        "p_value = stats.f.cdf(f, df1, df2)\n",
        "print('Var_1: ',np.var(samples_1) ,'Var_2: ', np.var(samples_2)) \n",
        "print('F: ', f, '\\np_value: ', p_value)\n",
        "print('alpha:', alpha)\n",
        "if p_value > alpha:\n",
        "      print(\"Có bằng chứng để bác bỏ giả thuyết H0\")\n",
        "else:\n",
        "      print(\"Chưa có bằng chứng để bác bỏ giả thuyết H0\")"
      ]
    }
  ],
  "metadata": {
    "kernelspec": {
      "display_name": "Python 3",
      "language": "python",
      "name": "python3"
    },
    "language_info": {
      "codemirror_mode": {
        "name": "ipython",
        "version": 3
      },
      "file_extension": ".py",
      "mimetype": "text/x-python",
      "name": "python",
      "nbconvert_exporter": "python",
      "pygments_lexer": "ipython3",
      "version": "3.7.3"
    },
    "colab": {
      "name": "kiem-dinh-f.ipynb",
      "provenance": [],
      "include_colab_link": true
    }
  },
  "nbformat": 4,
  "nbformat_minor": 0
}