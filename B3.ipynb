{
 "cells": [
  {
   "cell_type": "code",
   "execution_count": 9,
   "metadata": {},
   "outputs": [
    {
     "name": "stderr",
     "output_type": "stream",
     "text": [
      "C:\\Users\\ADMINI~1\\AppData\\Local\\Temp/ipykernel_7844/2313277464.py:5: DeprecationWarning: The default dtype for empty Series will be 'object' instead of 'float64' in a future version. Specify a dtype explicitly to silence this warning.\n",
      "  a = pd.Series(data = None)\n"
     ]
    },
    {
     "name": "stdout",
     "output_type": "stream",
     "text": [
      "Series([], dtype: float64)\n",
      "[1, 2, 3, 4, 5, 6, 7]\n",
      "0    1\n",
      "1    2\n",
      "2    3\n",
      "3    4\n",
      "4    5\n",
      "5    6\n",
      "6    7\n",
      "dtype: int64\n",
      "0    1\n",
      "1    2\n",
      "2    3\n",
      "3    4\n",
      "4    5\n",
      "5    6\n",
      "6    7\n",
      "dtype: int32\n",
      "0    [1]\n",
      "1    [2]\n",
      "2    [3]\n",
      "3    [4]\n",
      "4    [5]\n",
      "5    [6]\n",
      "6    [7]\n",
      "dtype: object\n"
     ]
    }
   ],
   "source": [
    "import pandas as pd\n",
    "import numpy as np\n",
    "import random\n",
    "#bai1\n",
    "a = pd.Series(data = None)\n",
    "print(a)\n",
    "#bai2\n",
    "v = [1,2,3,4,5,6,7]\n",
    "print(v)\n",
    "b = pd.Series(v)\n",
    "print(b)\n",
    "#bai3\n",
    "v2 = []\n",
    "for i in range(0,7):\n",
    "    x = int(input(\"Nhap so:\"))\n",
    "    v2.append(x)\n",
    "_v =np.array(v2)\n",
    "b1 = pd.Series(_v)\n",
    "print(b1)\n",
    "#bai4\n",
    "v3 = [[1],[2],[3],[4],[5],[6],[7]]\n",
    "\n",
    "b = pd.Series(v3)\n",
    "print(b)\n",
    "\n",
    "\n",
    "   \n"
   ]
  },
  {
   "cell_type": "code",
   "execution_count": 17,
   "metadata": {},
   "outputs": [
    {
     "name": "stdout",
     "output_type": "stream",
     "text": [
      "Thanh pho    [HCM, Ha Noi, Hue, Can Tho]\n",
      "Ma                          [41, 29, 75]\n",
      "dtype: object\n",
      "0    chuoi\n",
      "1       oi\n",
      "2     buoi\n",
      "3    khoai\n",
      "dtype: object\n",
      "0    1\n",
      "1    2\n",
      "2    3\n",
      "3    4\n",
      "4    5\n",
      "dtype: int64\n"
     ]
    }
   ],
   "source": [
    "#bai5\n",
    "#Dict\n",
    "dict = {'Thanh pho': ['HCM', 'Ha Noi', 'Hue', 'Can Tho'], 'Ma': [41, 29, 75]}\n",
    "a = pd.Series(data = dict)\n",
    "print(a)\n",
    "#Tuple\n",
    "tup = (\"chuoi\", \"oi\", \"buoi\", \"khoai\")\n",
    "a = pd.Series(data = tup)\n",
    "print(a)\n",
    "#list\n",
    "list = [1,2,3,4,5]\n",
    "a = pd.Series(data = list)\n",
    "print(a)\n",
    "\n"
   ]
  },
  {
   "cell_type": "code",
   "execution_count": 36,
   "metadata": {},
   "outputs": [],
   "source": [
    "#bai6\n",
    "v=[]\n",
    "for i in range(0,20):\n",
    "    x = random.randint(1,10)\n",
    "    v.append(x)\n",
    "a = pd.Series(data = v)\n",
    "\n",
    "\n",
    "\n",
    "\n",
    "\n",
    "\n",
    "\n"
   ]
  },
  {
   "cell_type": "code",
   "execution_count": 45,
   "metadata": {},
   "outputs": [
    {
     "name": "stdout",
     "output_type": "stream",
     "text": [
      "a    2\n",
      "b    3\n",
      "c    6\n",
      "d    2\n",
      "e    2\n",
      "f    1\n",
      "g    1\n",
      "h    4\n",
      "i    7\n",
      "j    2\n",
      "dtype: int64\n",
      "2 6 2\n",
      "2\n",
      "2\n",
      "1\n",
      "1\n"
     ]
    }
   ],
   "source": [
    "#bai7\n",
    "v=[]\n",
    "for i in range(0,10):\n",
    "    x = random.randint(1,10)\n",
    "    v.append(x)\n",
    "a = pd.Series(data = v, index = [\"a\",\"b\",\"c\",\"d\",\"e\",\"f\",\"g\",\"h\",\"i\",\"j\"])\n",
    "print(a)\n",
    "print(a['a'],a['c'],a['e'])\n",
    "for i in range(3,7):\n",
    "    print(a[i])\n"
   ]
  }
 ],
 "metadata": {
  "interpreter": {
   "hash": "11f1dc213e07634baa4c5c321dec03c05dafae643c50f20e6d1a492290c05dc2"
  },
  "kernelspec": {
   "display_name": "Python 3.9.1 64-bit",
   "language": "python",
   "name": "python3"
  },
  "language_info": {
   "codemirror_mode": {
    "name": "ipython",
    "version": 3
   },
   "file_extension": ".py",
   "mimetype": "text/x-python",
   "name": "python",
   "nbconvert_exporter": "python",
   "pygments_lexer": "ipython3",
   "version": "3.9.1"
  },
  "orig_nbformat": 4
 },
 "nbformat": 4,
 "nbformat_minor": 2
}
