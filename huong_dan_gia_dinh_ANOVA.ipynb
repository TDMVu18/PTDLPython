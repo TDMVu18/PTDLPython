{
  "cells": [
    {
      "cell_type": "markdown",
      "metadata": {
        "id": "view-in-github",
        "colab_type": "text"
      },
      "source": [
        "<a href=\"https://colab.research.google.com/github/TDMVu18/PTDLPython/blob/main/huong_dan_gia_dinh_ANOVA.ipynb\" target=\"_parent\"><img src=\"https://colab.research.google.com/assets/colab-badge.svg\" alt=\"Open In Colab\"/></a>"
      ]
    },
    {
      "cell_type": "markdown",
      "metadata": {
        "id": "SxOSeLYYOtSA"
      },
      "source": [
        "PHÂN TÍCH ANOVA MỘT CHIỀU\n",
        "\n",
        "Phân tích ANOVA chấp nhận các giả định sau:\n",
        "\n",
        "(1) Tất cả các nhóm đều độc lập với nhau\n",
        "\n",
        "(2) Dữ liệu của mỗi nhóm đều tuân theo phân phối chuẩn. Tính chất này có thể được kiểm định bằng phương pháp Shapiro-Wilks.\n",
        "\n",
        "(3) Phương sai (variance) của các nhóm bằng nhau. Tính chất này có thể được kiểm định bằng phương pháp kiểm định Bartlett hay Levene.\n",
        "\n",
        "Nếu dữ liệu hiện có thỏa mãn các tính chất trên thì chúng ta mới tiến hành kiểm định ANOVA. Do vậy trước khi tiến hành kiểm định ANOVA, chúng ta cần thực hiện kiểm tra tập dữ liệu cần thỏa mãn 3 tính chất trên.\n",
        "    "
      ]
    },
    {
      "cell_type": "code",
      "source": [
        "import numpy as np\n",
        "import pandas as pd\n",
        "import matplotlib.pyplot as plt\n",
        "from scipy import stats as st"
      ],
      "metadata": {
        "id": "1NrYilHiO0ye"
      },
      "execution_count": 1,
      "outputs": []
    },
    {
      "cell_type": "code",
      "execution_count": 2,
      "metadata": {
        "id": "g00qajesOtSK",
        "colab": {
          "base_uri": "https://localhost:8080/"
        },
        "outputId": "06fe703a-38da-45c0-a2cd-c9d532b2daee"
      },
      "outputs": [
        {
          "output_type": "stream",
          "name": "stdout",
          "text": [
            "[ 6.66112457  0.62110402  1.11624458  0.47097816  9.7156247   2.07291143\n",
            "  6.44209636  6.87684292  7.16705905  7.73097933  5.15740241  0.79962718\n",
            "  4.50698055  2.99174521  7.1359379   7.56596324  5.52939014  8.20725877\n",
            "  6.51969839  7.14061325  7.01466545  8.14646883  4.8883775   5.16711003\n",
            " 10.76238383  8.21544166  7.57294577  7.0347106   1.450277    2.21320323\n",
            "  4.29635357  2.05605854  8.83555745  8.35705141  8.1904709   8.19477473\n",
            "  8.93832515  7.08430618 10.1528604   6.1345226   3.39782353  5.62714179\n",
            "  7.53624464  9.30945839  7.27855527  8.13502557 10.38316244  3.80397247\n",
            "  6.97555238  3.83253193  9.78948565  5.40269326  2.30568476  4.90665949\n",
            "  8.47215826  3.74800578  3.76577354  4.3219004   5.90929755 -0.87384642\n",
            "  4.58531131  6.50806448  5.60776261  4.5796361   7.00237742  2.2279008\n",
            "  3.53679091  1.18695449  0.50494142  7.12692746  2.6481669   2.39949394\n",
            "  8.22869619  8.17451467  3.13466687  1.45881623  5.40598013  8.48854614\n",
            "  9.80069622  8.88392022 10.05127376  7.70080223  3.86361053  5.80693278\n",
            " 10.31383678  7.51227476  7.46698331  1.55142539  5.81500112  6.29098161\n",
            "  5.4283857   9.73670434 11.36036308  5.23503827  9.77664788  2.65078881\n",
            "  5.2251827   4.05546068  2.33928304  3.54451073]\n"
          ]
        }
      ],
      "source": [
        "#Bước 1: Hãy tạo một tập dữ liệu mẫu sample_1 với kích thước 100 tuân theo phân phối chuẩn\n",
        "np.random.seed(12345678)\n",
        "sample_1 = st.norm.rvs(loc=5, scale=3, size=100)\n",
        "print(sample_1)"
      ]
    },
    {
      "cell_type": "code",
      "execution_count": 3,
      "metadata": {
        "id": "REW2ga9POtSN",
        "colab": {
          "base_uri": "https://localhost:8080/"
        },
        "outputId": "c564aa38-c881-4c81-b387-4d0785299830"
      },
      "outputs": [
        {
          "output_type": "stream",
          "name": "stdout",
          "text": [
            "[27 35 31 21 21 23 28 33 23 23 30 29 21 28 31 24 28 33 26 27 25 24 21 22\n",
            " 25 24 26 30 22 28 24 29 33 21 21 21 29 27 32 27 25 28 29 29 25 25 30 24\n",
            " 27 19 24 30 24 30 20 28 21 27 25 23 32 23 36 24 28 27 34 19 23 24 27 24\n",
            " 23 18 29 19 22 29 18 23 30 24 22 23 19 29 30 35 17 21 37 21 22 24 31 24\n",
            " 28 19 21 24]\n"
          ]
        }
      ],
      "source": [
        "#Bước 2: hãy tạo tập dữ liệu mẫu sample_2 với kích thước 100 tuân theo phân phối Poisson\n",
        "np.random.seed(1000)\n",
        "sample_2 = st.poisson.rvs(loc=5, mu=20, size=100)\n",
        "print(sample_2)"
      ]
    },
    {
      "cell_type": "markdown",
      "metadata": {
        "id": "IZ-PFKYvOtSN"
      },
      "source": [
        "Hãy tham khảo các hướng dẫn sau để kiểm định tính chất thứ 2 bằng phương pháp Shapiro-Wilks đối với sample_1 và sample_2\n",
        "\n",
        "(1) [Tài liệu tham khảo scipy](https://docs.scipy.org/doc/scipy/reference/generated/scipy.stats.shapiro.html)\n",
        "\n",
        "(2) [Hướng dẫn cụ thể của statology](https://www.statology.org/shapiro-wilk-test-python/)"
      ]
    },
    {
      "cell_type": "code",
      "execution_count": 19,
      "metadata": {
        "id": "vyXpcBLeOtSO",
        "colab": {
          "base_uri": "https://localhost:8080/"
        },
        "outputId": "e444e057-70f2-437b-8af6-7adb88e4d2ff"
      },
      "outputs": [
        {
          "output_type": "stream",
          "name": "stdout",
          "text": [
            "(0.9772805571556091, 0.08144091814756393)\n",
            "Mẫu 1 tuân theo phân phối chuẩn.\n"
          ]
        }
      ],
      "source": [
        "#Code kiểm định tính chất thứ 2 của sample_1 và sample_2\n",
        "alpha = 0.05\n",
        "# Kiểm định sample_1:\n",
        "shapiro_test1 = st.shapiro(sample_1)\n",
        "print(shapiro_test1)\n",
        "if (shapiro_test1[0] > 0) and (shapiro_test1[1] > alpha):\n",
        "    print('Mẫu 1 tuân theo phân phối chuẩn.')\n",
        "else:\n",
        "    print('Mẫu 1 không tuân theo phân phối chuẩn.')\n"
      ]
    },
    {
      "cell_type": "code",
      "source": [
        "# Kiểm định sample_2:\n",
        "shapiro_test2 = st.shapiro(sample_2)\n",
        "print(shapiro_test2)\n",
        "if (shapiro_test2[0] > 0) and (shapiro_test2[1] > alpha):\n",
        "    print('Mẫu 2 tuân theo phân phối chuẩn.')\n",
        "else:\n",
        "    print('Mẫu 2 không tuân theo phân phối chuẩn.')"
      ],
      "metadata": {
        "colab": {
          "base_uri": "https://localhost:8080/"
        },
        "id": "g_i0RGt0Rmv4",
        "outputId": "d4b765b5-d193-4dac-ccb2-66d8fe7889db"
      },
      "execution_count": 20,
      "outputs": [
        {
          "output_type": "stream",
          "name": "stdout",
          "text": [
            "(0.9750838875770569, 0.05477862432599068)\n",
            "Mẫu 2 tuân theo phân phối chuẩn.\n"
          ]
        }
      ]
    },
    {
      "cell_type": "markdown",
      "metadata": {
        "id": "D9353ypWOtSP"
      },
      "source": [
        "Hãy tham khảo các hướng dẫn sau để kiểm định tính chất thứ 3 bằng kiểm định Bartlett hoặc kiểm định Levene\n",
        "\n",
        "(1) [Hướng dẫn tổng quát](https://www.marsja.se/levenes-bartletts-test-of-equality-homogeneity-of-variance-in-python/)\n",
        "\n",
        "(2) [Hướng dẫn ở stackoverflow](https://stackoverflow.com/questions/36141254/how-to-test-for-homoscedasticity-having-the-same-population-variance-in-python)\n",
        "\n",
        "(3) Sử dụng bài giảng về kiểm định Bartlett và Levene ở buổi trước"
      ]
    },
    {
      "cell_type": "code",
      "source": [
        "# Ví dụ:\n",
        "np.random.seed(1000)\n",
        "\n",
        "majors =   [\"Business\",\"English\",\"Mathematics\",\"Psychology\"]\n",
        "\n",
        "# Generate random data\n",
        "maj = np.random.choice(a= majors,\n",
        "                              p = [0.25,0.25,0.25,0.25],\n",
        "                              size= 35*4)\n",
        "\n",
        "frus = st.poisson.rvs(loc=18,\n",
        "                              mu=30,\n",
        "                              size=35*4)\n",
        "\n",
        "# Group data by major\n",
        "df3 = pd.DataFrame({\"major\":maj,\"frus\":frus})\n",
        "df3"
      ],
      "metadata": {
        "colab": {
          "base_uri": "https://localhost:8080/",
          "height": 424
        },
        "id": "nqQznBDkRyMv",
        "outputId": "c7f5e688-9c78-4cbf-8097-754f6a9c95fa"
      },
      "execution_count": 22,
      "outputs": [
        {
          "output_type": "execute_result",
          "data": {
            "text/plain": [
              "           major  frus\n",
              "0    Mathematics    50\n",
              "1       Business    48\n",
              "2     Psychology    45\n",
              "3        English    56\n",
              "4     Psychology    45\n",
              "..           ...   ...\n",
              "135   Psychology    56\n",
              "136  Mathematics    53\n",
              "137   Psychology    57\n",
              "138     Business    44\n",
              "139  Mathematics    49\n",
              "\n",
              "[140 rows x 2 columns]"
            ],
            "text/html": [
              "\n",
              "  <div id=\"df-634e5afe-1058-4141-a303-840af15c576e\">\n",
              "    <div class=\"colab-df-container\">\n",
              "      <div>\n",
              "<style scoped>\n",
              "    .dataframe tbody tr th:only-of-type {\n",
              "        vertical-align: middle;\n",
              "    }\n",
              "\n",
              "    .dataframe tbody tr th {\n",
              "        vertical-align: top;\n",
              "    }\n",
              "\n",
              "    .dataframe thead th {\n",
              "        text-align: right;\n",
              "    }\n",
              "</style>\n",
              "<table border=\"1\" class=\"dataframe\">\n",
              "  <thead>\n",
              "    <tr style=\"text-align: right;\">\n",
              "      <th></th>\n",
              "      <th>major</th>\n",
              "      <th>frus</th>\n",
              "    </tr>\n",
              "  </thead>\n",
              "  <tbody>\n",
              "    <tr>\n",
              "      <th>0</th>\n",
              "      <td>Mathematics</td>\n",
              "      <td>50</td>\n",
              "    </tr>\n",
              "    <tr>\n",
              "      <th>1</th>\n",
              "      <td>Business</td>\n",
              "      <td>48</td>\n",
              "    </tr>\n",
              "    <tr>\n",
              "      <th>2</th>\n",
              "      <td>Psychology</td>\n",
              "      <td>45</td>\n",
              "    </tr>\n",
              "    <tr>\n",
              "      <th>3</th>\n",
              "      <td>English</td>\n",
              "      <td>56</td>\n",
              "    </tr>\n",
              "    <tr>\n",
              "      <th>4</th>\n",
              "      <td>Psychology</td>\n",
              "      <td>45</td>\n",
              "    </tr>\n",
              "    <tr>\n",
              "      <th>...</th>\n",
              "      <td>...</td>\n",
              "      <td>...</td>\n",
              "    </tr>\n",
              "    <tr>\n",
              "      <th>135</th>\n",
              "      <td>Psychology</td>\n",
              "      <td>56</td>\n",
              "    </tr>\n",
              "    <tr>\n",
              "      <th>136</th>\n",
              "      <td>Mathematics</td>\n",
              "      <td>53</td>\n",
              "    </tr>\n",
              "    <tr>\n",
              "      <th>137</th>\n",
              "      <td>Psychology</td>\n",
              "      <td>57</td>\n",
              "    </tr>\n",
              "    <tr>\n",
              "      <th>138</th>\n",
              "      <td>Business</td>\n",
              "      <td>44</td>\n",
              "    </tr>\n",
              "    <tr>\n",
              "      <th>139</th>\n",
              "      <td>Mathematics</td>\n",
              "      <td>49</td>\n",
              "    </tr>\n",
              "  </tbody>\n",
              "</table>\n",
              "<p>140 rows × 2 columns</p>\n",
              "</div>\n",
              "      <button class=\"colab-df-convert\" onclick=\"convertToInteractive('df-634e5afe-1058-4141-a303-840af15c576e')\"\n",
              "              title=\"Convert this dataframe to an interactive table.\"\n",
              "              style=\"display:none;\">\n",
              "        \n",
              "  <svg xmlns=\"http://www.w3.org/2000/svg\" height=\"24px\"viewBox=\"0 0 24 24\"\n",
              "       width=\"24px\">\n",
              "    <path d=\"M0 0h24v24H0V0z\" fill=\"none\"/>\n",
              "    <path d=\"M18.56 5.44l.94 2.06.94-2.06 2.06-.94-2.06-.94-.94-2.06-.94 2.06-2.06.94zm-11 1L8.5 8.5l.94-2.06 2.06-.94-2.06-.94L8.5 2.5l-.94 2.06-2.06.94zm10 10l.94 2.06.94-2.06 2.06-.94-2.06-.94-.94-2.06-.94 2.06-2.06.94z\"/><path d=\"M17.41 7.96l-1.37-1.37c-.4-.4-.92-.59-1.43-.59-.52 0-1.04.2-1.43.59L10.3 9.45l-7.72 7.72c-.78.78-.78 2.05 0 2.83L4 21.41c.39.39.9.59 1.41.59.51 0 1.02-.2 1.41-.59l7.78-7.78 2.81-2.81c.8-.78.8-2.07 0-2.86zM5.41 20L4 18.59l7.72-7.72 1.47 1.35L5.41 20z\"/>\n",
              "  </svg>\n",
              "      </button>\n",
              "      \n",
              "  <style>\n",
              "    .colab-df-container {\n",
              "      display:flex;\n",
              "      flex-wrap:wrap;\n",
              "      gap: 12px;\n",
              "    }\n",
              "\n",
              "    .colab-df-convert {\n",
              "      background-color: #E8F0FE;\n",
              "      border: none;\n",
              "      border-radius: 50%;\n",
              "      cursor: pointer;\n",
              "      display: none;\n",
              "      fill: #1967D2;\n",
              "      height: 32px;\n",
              "      padding: 0 0 0 0;\n",
              "      width: 32px;\n",
              "    }\n",
              "\n",
              "    .colab-df-convert:hover {\n",
              "      background-color: #E2EBFA;\n",
              "      box-shadow: 0px 1px 2px rgba(60, 64, 67, 0.3), 0px 1px 3px 1px rgba(60, 64, 67, 0.15);\n",
              "      fill: #174EA6;\n",
              "    }\n",
              "\n",
              "    [theme=dark] .colab-df-convert {\n",
              "      background-color: #3B4455;\n",
              "      fill: #D2E3FC;\n",
              "    }\n",
              "\n",
              "    [theme=dark] .colab-df-convert:hover {\n",
              "      background-color: #434B5C;\n",
              "      box-shadow: 0px 1px 3px 1px rgba(0, 0, 0, 0.15);\n",
              "      filter: drop-shadow(0px 1px 2px rgba(0, 0, 0, 0.3));\n",
              "      fill: #FFFFFF;\n",
              "    }\n",
              "  </style>\n",
              "\n",
              "      <script>\n",
              "        const buttonEl =\n",
              "          document.querySelector('#df-634e5afe-1058-4141-a303-840af15c576e button.colab-df-convert');\n",
              "        buttonEl.style.display =\n",
              "          google.colab.kernel.accessAllowed ? 'block' : 'none';\n",
              "\n",
              "        async function convertToInteractive(key) {\n",
              "          const element = document.querySelector('#df-634e5afe-1058-4141-a303-840af15c576e');\n",
              "          const dataTable =\n",
              "            await google.colab.kernel.invokeFunction('convertToInteractive',\n",
              "                                                     [key], {});\n",
              "          if (!dataTable) return;\n",
              "\n",
              "          const docLinkHtml = 'Like what you see? Visit the ' +\n",
              "            '<a target=\"_blank\" href=https://colab.research.google.com/notebooks/data_table.ipynb>data table notebook</a>'\n",
              "            + ' to learn more about interactive tables.';\n",
              "          element.innerHTML = '';\n",
              "          dataTable['output_type'] = 'display_data';\n",
              "          await google.colab.output.renderOutput(dataTable, element);\n",
              "          const docLink = document.createElement('div');\n",
              "          docLink.innerHTML = docLinkHtml;\n",
              "          element.appendChild(docLink);\n",
              "        }\n",
              "      </script>\n",
              "    </div>\n",
              "  </div>\n",
              "  "
            ]
          },
          "metadata": {},
          "execution_count": 22
        }
      ]
    },
    {
      "cell_type": "code",
      "source": [
        "# Phân nhóm dữ liệu:\n",
        "groups = df3.groupby(\"major\").groups\n",
        "#\n",
        "business = frus[groups[\"Business\"]]\n",
        "eng = frus[groups[\"English\"]]\n",
        "math = frus[groups[\"Mathematics\"]]\n",
        "psy = frus[groups[\"Psychology\"]]\n",
        "groups"
      ],
      "metadata": {
        "colab": {
          "base_uri": "https://localhost:8080/"
        },
        "id": "Ayn_mXtzSD3o",
        "outputId": "e9f08cae-f63a-43ce-bc53-e1484159cdbd"
      },
      "execution_count": 23,
      "outputs": [
        {
          "output_type": "execute_result",
          "data": {
            "text/plain": [
              "{'Business': [1, 5, 6, 8, 10, 13, 15, 20, 25, 32, 33, 34, 35, 39, 41, 44, 47, 48, 53, 57, 58, 59, 61, 69, 79, 86, 88, 99, 100, 102, 107, 116, 122, 131, 132, 138], 'English': [3, 7, 12, 19, 22, 24, 37, 40, 43, 49, 51, 56, 60, 64, 65, 70, 71, 74, 75, 80, 84, 89, 91, 93, 97, 111, 112, 113, 115, 118, 123, 124, 127, 128], 'Mathematics': [0, 11, 14, 23, 27, 29, 36, 42, 50, 52, 54, 55, 62, 63, 66, 72, 73, 77, 82, 85, 87, 92, 95, 96, 98, 104, 105, 109, 110, 120, 121, 125, 133, 134, 136, 139], 'Psychology': [2, 4, 9, 16, 17, 18, 21, 26, 28, 30, 31, 38, 45, 46, 67, 68, 76, 78, 81, 83, 90, 94, 101, 103, 106, 108, 114, 117, 119, 126, 129, 130, 135, 137]}"
            ]
          },
          "metadata": {},
          "execution_count": 23
        }
      ]
    },
    {
      "cell_type": "code",
      "source": [
        "# Phương sai mỗi nhóm:\n",
        "[np.var(x, ddof=1) for x in [business, eng, math, psy]]"
      ],
      "metadata": {
        "colab": {
          "base_uri": "https://localhost:8080/"
        },
        "id": "3GcEXvNWSG1X",
        "outputId": "a9bca53a-124b-4f78-c183-b5d8bd5c9325"
      },
      "execution_count": 24,
      "outputs": [
        {
          "output_type": "execute_result",
          "data": {
            "text/plain": [
              "[51.12063492063492, 25.5445632798574, 38.36825396825396, 30.168449197860966]"
            ]
          },
          "metadata": {},
          "execution_count": 24
        }
      ]
    },
    {
      "cell_type": "code",
      "execution_count": null,
      "metadata": {
        "id": "1YbpTVbNOtSP"
      },
      "outputs": [],
      "source": [
        "#Code kiểm định tính đồng nhất về phương sai của các nhóm"
      ]
    },
    {
      "cell_type": "code",
      "execution_count": 25,
      "metadata": {
        "id": "-e22BKd9OtSQ",
        "colab": {
          "base_uri": "https://localhost:8080/"
        },
        "outputId": "420bdf25-5205-4248-84da-2f6362817501"
      },
      "outputs": [
        {
          "output_type": "stream",
          "name": "stdout",
          "text": [
            "BartlettResult(statistic=4.6512742950695385, pvalue=0.19918739015473022)\n",
            "Phương sai các nhóm không bằng nhau.\n"
          ]
        }
      ],
      "source": [
        "# Kiểm định Bartlett - Kiểm định tính đồng nhất của các phương sai:\n",
        "bartlett_test = st.bartlett(business, eng, math, psy)\n",
        "print(bartlett_test)\n",
        "bartlettvalue,pvalue=bartlett_test\n",
        "if (bartlettvalue > 0) and (pvalue < alpha):\n",
        "    print('Phương sai các nhóm bằng nhau.')\n",
        "else:\n",
        "    print('Phương sai các nhóm không bằng nhau.')"
      ]
    },
    {
      "cell_type": "code",
      "source": [
        "# Kiểm định Levene - Kiểm tra bình đẳng các phương sai:\n",
        "levene_test = st.levene(business, eng, math, psy)\n",
        "print(levene_test)\n",
        "levenevalue,pvalue=levene_test\n",
        "if (levenevalue > 0) and (pvalue < alpha):\n",
        "    print('Phương sai các nhóm bằng nhau.')\n",
        "else:\n",
        "    print('Phương sai các nhóm không bằng nhau.')"
      ],
      "metadata": {
        "colab": {
          "base_uri": "https://localhost:8080/"
        },
        "id": "_OgNxhEhSLHu",
        "outputId": "089629e7-b28d-41a6-dcd3-2dcb1e45fbf7"
      },
      "execution_count": 26,
      "outputs": [
        {
          "output_type": "stream",
          "name": "stdout",
          "text": [
            "LeveneResult(statistic=1.320185643980964, pvalue=0.27042712192013624)\n",
            "Phương sai các nhóm không bằng nhau.\n"
          ]
        }
      ]
    }
  ],
  "metadata": {
    "kernelspec": {
      "display_name": "Python 3",
      "language": "python",
      "name": "python3"
    },
    "language_info": {
      "codemirror_mode": {
        "name": "ipython",
        "version": 3
      },
      "file_extension": ".py",
      "mimetype": "text/x-python",
      "name": "python",
      "nbconvert_exporter": "python",
      "pygments_lexer": "ipython3",
      "version": "3.7.3"
    },
    "colab": {
      "name": "huong-dan-gia-dinh-ANOVA.ipynb",
      "provenance": [],
      "include_colab_link": true
    }
  },
  "nbformat": 4,
  "nbformat_minor": 0
}