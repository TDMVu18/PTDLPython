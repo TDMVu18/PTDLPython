{
  "cells": [
    {
      "cell_type": "markdown",
      "metadata": {
        "id": "view-in-github",
        "colab_type": "text"
      },
      "source": [
        "<a href=\"https://colab.research.google.com/github/TDMVu18/PTDLPython/blob/main/pandas4_T%E1%BB%95ng_h%E1%BB%A3p_c%C3%A1c_thao_t%C3%A1c_th%E1%BB%91ng_k%C3%AA_m%C3%B4_t%E1%BA%A3.ipynb\" target=\"_parent\"><img src=\"https://colab.research.google.com/assets/colab-badge.svg\" alt=\"Open In Colab\"/></a>"
      ]
    },
    {
      "cell_type": "markdown",
      "metadata": {
        "id": "9ch0G6t2ZGdb"
      },
      "source": [
        "Câu 1: Xác định các thư viện cần dùng cho quá trình phân tích thống kê mô tả và đưa vào mã lệnh\n",
        "(sử dụng Google Colab)"
      ]
    },
    {
      "cell_type": "code",
      "execution_count": null,
      "metadata": {
        "id": "MhByc5e9ZGdf"
      },
      "outputs": [],
      "source": [
        "import pandas as pd #thư viện pandas\n",
        "import matplotlib.pyplot as plt #thư viện matplotlib\n",
        "import numpy as np #thư viện numpy\n",
        "import scipy.stats as stats #thư viện scipy\n",
        "import seaborn as sns #thư viện seaborn \n",
        "from matplotlib.ticker import PercentFormatter"
      ]
    },
    {
      "cell_type": "markdown",
      "metadata": {
        "id": "ktxM5D87ZGdg"
      },
      "source": [
        "Câu 3: Đối với các cột dữ liệu định lượng, hãy áp dụng các phép tính hướng tâm, phép tính phương\n",
        "sai – độ lệch chuẩn, các phép tính phân vị, cực đại – cực tiểu để tính các thông số cơ bản của các\n",
        "cột dữ liệu định lượng này."
      ]
    },
    {
      "cell_type": "code",
      "execution_count": null,
      "metadata": {
        "id": "zeXyth6cZGdh",
        "outputId": "5a15a7a1-6dcb-4b0f-edd7-c1d8c324ee2a"
      },
      "outputs": [
        {
          "name": "stdout",
          "output_type": "stream",
          "text": [
            "Phương sai:  3253156.327336807 ; 2200.14013779217\n",
            "Độ lệch chuẩn:  1803.6508329875844 ; 46.905651448329444\n",
            "Giá trị trung bình:  50.0 ; 138.0\n",
            "Giá trị lớn nhất:  31300.0 ; 2500.0\n",
            "Giá trị nhỏ nhất:  0.0 ; 0.0\n"
          ]
        },
        {
          "name": "stderr",
          "output_type": "stream",
          "text": [
            "D:\\an\\lib\\site-packages\\IPython\\core\\interactiveshell.py:3071: DtypeWarning: Columns (9,12,15,17) have mixed types.Specify dtype option on import or set low_memory=False.\n",
            "  has_raised = await self.run_ast_nodes(code_ast.body, cell_name,\n"
          ]
        }
      ],
      "source": [
        "data = pd.read_csv('C:/Users/MSI/Downloads/database/database.csv')\n",
        "data1 = pd.DataFrame(columns = ['Height','Speed'], data = data)\n",
        "\n",
        "print('Phương sai: ', data1['Height'].var(),\";\", data1['Speed'].var())\n",
        "print('Độ lệch chuẩn: ', data1['Height'].std(),\";\", data1['Speed'].std())\n",
        "print('Giá trị trung bình: ', data1['Height'].median(),\";\", data1['Speed'].median())\n",
        "print('Giá trị lớn nhất: ', data1['Height'].max(),\";\", data1['Speed'].max())\n",
        "print('Giá trị nhỏ nhất: ', data1['Height'].min(),\";\", data1['Speed'].min())"
      ]
    },
    {
      "cell_type": "markdown",
      "metadata": {
        "id": "dEQbtV0OZGdi"
      },
      "source": [
        "Câu 4: Hãy vẽ biểu đồ boxplot cho từng cột dữ liệu định lượng và xác định xem có xuất hienj các\n",
        "ngoại lệ không?nếu có thì ở cột nào?"
      ]
    },
    {
      "cell_type": "code",
      "execution_count": null,
      "metadata": {
        "id": "McznIDU0ZGdj",
        "outputId": "14ad2890-f7fd-4230-f5c2-e32db89c272a"
      },
      "outputs": [
        {
          "name": "stdout",
          "output_type": "stream",
          "text": [
            "AxesSubplot(0.125,0.125;0.775x0.755)\n",
            "ở đây sau khi vẽ xong ta thấy cột height xuất hiện hai giá trị ngoại lệ, còn cột speed có một giá trị ngoại lệ\n"
          ]
        },
        {
          "name": "stderr",
          "output_type": "stream",
          "text": [
            "D:\\an\\lib\\site-packages\\matplotlib\\cbook\\__init__.py:1376: VisibleDeprecationWarning: Creating an ndarray from ragged nested sequences (which is a list-or-tuple of lists-or-tuples-or ndarrays with different lengths or shapes) is deprecated. If you meant to do this, you must specify 'dtype=object' when creating the ndarray.\n",
            "  X = np.atleast_1d(X.T if isinstance(X, np.ndarray) else np.asarray(X))\n"
          ]
        },
        {
          "data": {
            "image/png": "[encoded data removed]",
            "text/plain": [
              "<Figure size 432x288 with 1 Axes>"
            ]
          },
          "metadata": {
            "needs_background": "light"
          },
          "output_type": "display_data"
        }
      ],
      "source": [
        "boxplot = data.boxplot(column = ['Height','Speed'])\n",
        "print(boxplot)\n",
        "# plt.hist(data['Height'], bins = 20)\n",
        "# plt.show()\n",
        "print('ở đây sau khi vẽ xong ta thấy cột height xuất hiện hai giá trị ngoại lệ, còn cột speed có một giá trị ngoại lệ')"
      ]
    },
    {
      "cell_type": "markdown",
      "metadata": {
        "id": "odiRmRusZGdk"
      },
      "source": [
        "Câu 5: Người ta thường sử dụng chỉ số z (hay z-score) để xác định giá trị ngoại lệ (outlier). Bạn\n",
        "hãy loại bỏ các hàng có chứa giá trị ngoại lệ ra khỏi dataframe.\n",
        "\n",
        "Gợi ý: sử dụng chỉ số z hoặc hàm tính phân vị (quantile)"
      ]
    },
    {
      "cell_type": "code",
      "execution_count": null,
      "metadata": {
        "id": "9xeUQLkWZGdk",
        "outputId": "c119135d-991f-43c3-fb87-e2ec29abba78"
      },
      "outputs": [
        {
          "name": "stdout",
          "output_type": "stream",
          "text": [
            "0.0 800.0\n",
            "(174104, 1)\n",
            "(174104, 1)\n",
            "AxesSubplot(0.125,0.125;0.775x0.755)\n"
          ]
        },
        {
          "data": {
            "image/png": "[encoded data removed]",
            "text/plain": [
              "<Figure size 432x288 with 1 Axes>"
            ]
          },
          "metadata": {
            "needs_background": "light"
          },
          "output_type": "display_data"
        }
      ],
      "source": [
        "# find Q1, Q3, and interquartile range for each column\n",
        "Q1 = data1['Height'].quantile(q=.25)\n",
        "Q3 = data1['Height'].quantile(q=.75)\n",
        "print(Q1,Q3)\n",
        "\n",
        "#tách cột height\n",
        "data_height = pd.DataFrame(columns = ['Height'], data = data1)\n",
        "print(data_height.shape)\n",
        "\n",
        "#cách1: dùng Q1 và Q3 để loại bỏ giá trị ngoại lệ\n",
        "\n",
        "data_no_outlies1 = data_height[(data_height<Q3) & (data_height>Q1)] \n",
        "print(data_no_outlies1.shape)\n",
        "boxplot = data_no_outlies1.boxplot(column = ['Height'])\n",
        "print(boxplot)"
      ]
    },
    {
      "cell_type": "code",
      "execution_count": null,
      "metadata": {
        "id": "-uuLTmGcZGdm",
        "outputId": "a46012cd-66cd-40d6-a5f4-0811dbc51e91"
      },
      "outputs": [
        {
          "name": "stdout",
          "output_type": "stream",
          "text": [
            "   Height    zscore\n",
            "0     NaN       NaN\n",
            "1     0.0 -0.460750\n",
            "2     NaN       NaN\n",
            "3   200.0 -0.349864\n",
            "4   100.0 -0.405307\n",
            "         Height    zscore\n",
            "59      12000.0  6.192422\n",
            "63      10000.0  5.083560\n",
            "64      10000.0  5.083560\n",
            "173     15000.0  7.855715\n",
            "176     11000.0  5.637991\n",
            "...         ...       ...\n",
            "173745   8000.0  3.974698\n",
            "173767   6700.0  3.253938\n",
            "173936  11000.0  5.637991\n",
            "173953  10000.0  5.083560\n",
            "173994  14000.0  7.301284\n",
            "\n",
            "[2539 rows x 2 columns]\n",
            "        Height    zscore\n",
            "1          0.0 -0.460750\n",
            "3        200.0 -0.349864\n",
            "4        100.0 -0.405307\n",
            "5          0.0 -0.460750\n",
            "10        60.0 -0.427484\n",
            "...        ...       ...\n",
            "174081     0.0 -0.460750\n",
            "174085   600.0 -0.128091\n",
            "174086     0.0 -0.460750\n",
            "174094    10.0 -0.455206\n",
            "174097     0.0 -0.460750\n",
            "\n",
            "[78733 rows x 2 columns]\n",
            "_______________________________________\n",
            "        Height    zscore\n",
            "13      1400.0  0.315453\n",
            "17      1500.0  0.370896\n",
            "36      1000.0  0.093681\n",
            "37      1800.0  0.537226\n",
            "58      2000.0  0.648112\n",
            "...        ...       ...\n",
            "174095  1300.0  0.260010\n",
            "174098  2000.0  0.648112\n",
            "174100  5000.0  2.311405\n",
            "174101  3000.0  1.202543\n",
            "174102  6000.0  2.865836\n",
            "\n",
            "[22405 rows x 2 columns]\n",
            "AxesSubplot(0.125,0.125;0.775x0.755)\n"
          ]
        },
        {
          "data": {
            "image/png": "[encoded data removed]",
            "text/plain": [
              "<Figure size 432x288 with 1 Axes>"
            ]
          },
          "metadata": {
            "needs_background": "light"
          },
          "output_type": "display_data"
        }
      ],
      "source": [
        "#cách2: dùng zscore để loại bỏ giá trị ngoại lệ\n",
        "\n",
        "data_height['zscore'] = (data_height - data_height.mean())/data_height.std()\n",
        "print(data_height.head(5))\n",
        "print(data_height[data_height['zscore']>3])\n",
        "print(data_height[data_height['zscore']<0])\n",
        "print(\"_______________________________________\")\n",
        "\n",
        "data_no_outlies2 = data_height[(data_height.zscore<3) & (data_height.zscore>0)]\n",
        "print(data_no_outlies2)\n",
        "boxplot = data_no_outlies2.boxplot(column = ['Height'])\n",
        "print(boxplot)"
      ]
    },
    {
      "cell_type": "markdown",
      "metadata": {
        "id": "cTvXHLqcZGdn"
      },
      "source": [
        "Câu 6: Thực hiện lại câu 3 – 4 với tập dữ liệu sau khi đã loại bỏ ngoại lệ."
      ]
    },
    {
      "cell_type": "code",
      "execution_count": null,
      "metadata": {
        "id": "wD9Y8LY0ZGdn",
        "outputId": "65b28b1c-1ecf-4098-951a-99130344bec0"
      },
      "outputs": [
        {
          "name": "stdout",
          "output_type": "stream",
          "text": [
            "Phương sai:  1920242.552645415\n",
            "Độ lệch chuẩn:  1385.7281669380236\n",
            "Giá trị trung bình:  2000.0\n",
            "Giá trị lớn nhất:  6200.0\n",
            "Giá trị nhỏ nhất:  840.0\n"
          ]
        }
      ],
      "source": [
        "print('Phương sai: ', data_no_outlies2['Height'].var())\n",
        "print('Độ lệch chuẩn: ', data_no_outlies2['Height'].std())\n",
        "print('Giá trị trung bình: ', data_no_outlies2['Height'].median())\n",
        "print('Giá trị lớn nhất: ', data_no_outlies2['Height'].max())\n",
        "print('Giá trị nhỏ nhất: ', data_no_outlies2['Height'].min())"
      ]
    },
    {
      "cell_type": "markdown",
      "metadata": {
        "id": "3zrYvvDlZGdo"
      },
      "source": [
        "Câu 7: Hãy tính độ tương quan (correlation) giữa các cột định lượng. (Hay xây dựng correlation\n",
        "matrix)"
      ]
    },
    {
      "cell_type": "code",
      "execution_count": null,
      "metadata": {
        "id": "pHrX6c6AZGdo",
        "outputId": "c2bce684-a8d0-4877-d035-c0cd8f506bce"
      },
      "outputs": [
        {
          "name": "stdout",
          "output_type": "stream",
          "text": [
            "0.6722484644676717\n",
            "          Height     Speed\n",
            "Height  1.000000  0.672248\n",
            "Speed   0.672248  1.000000\n"
          ]
        }
      ],
      "source": [
        "print(data1['Height'].corr(data1['Speed']))\n",
        "print(data1.corr()) "
      ]
    },
    {
      "cell_type": "markdown",
      "metadata": {
        "id": "oFu1tWtbZGdp"
      },
      "source": [
        "Câu 8: Từ correlation matrix, Hãy vẽ:\n",
        "- Heat map (biểu đồ nhiệt)\n",
        "- Pair plot (biểu đồ cặp)"
      ]
    },
    {
      "cell_type": "code",
      "execution_count": null,
      "metadata": {
        "id": "e6xdG1QiZGdp",
        "outputId": "73a0f306-36af-4d8e-ecfb-c7993d9c2db1"
      },
      "outputs": [
        {
          "data": {
            "text/html": [
              "<style  type=\"text/css\" >\n",
              "    #T_427ab4de_b5d6_11ec_9fc5_d45d64613077row0_col0 {\n",
              "            background-color:  #ff0000;\n",
              "            color:  #f1f1f1;\n",
              "        }    #T_427ab4de_b5d6_11ec_9fc5_d45d64613077row0_col1 {\n",
              "            background-color:  #0000ff;\n",
              "            color:  #f1f1f1;\n",
              "        }    #T_427ab4de_b5d6_11ec_9fc5_d45d64613077row1_col0 {\n",
              "            background-color:  #0000ff;\n",
              "            color:  #f1f1f1;\n",
              "        }    #T_427ab4de_b5d6_11ec_9fc5_d45d64613077row1_col1 {\n",
              "            background-color:  #ff0000;\n",
              "            color:  #f1f1f1;\n",
              "        }</style><table id=\"T_427ab4de_b5d6_11ec_9fc5_d45d64613077\" ><thead>    <tr>        <th class=\"blank level0\" ></th>        <th class=\"col_heading level0 col0\" >Height</th>        <th class=\"col_heading level0 col1\" >Speed</th>    </tr></thead><tbody>\n",
              "                <tr>\n",
              "                        <th id=\"T_427ab4de_b5d6_11ec_9fc5_d45d64613077level0_row0\" class=\"row_heading level0 row0\" >Height</th>\n",
              "                        <td id=\"T_427ab4de_b5d6_11ec_9fc5_d45d64613077row0_col0\" class=\"data row0 col0\" >1.000000</td>\n",
              "                        <td id=\"T_427ab4de_b5d6_11ec_9fc5_d45d64613077row0_col1\" class=\"data row0 col1\" >0.672248</td>\n",
              "            </tr>\n",
              "            <tr>\n",
              "                        <th id=\"T_427ab4de_b5d6_11ec_9fc5_d45d64613077level0_row1\" class=\"row_heading level0 row1\" >Speed</th>\n",
              "                        <td id=\"T_427ab4de_b5d6_11ec_9fc5_d45d64613077row1_col0\" class=\"data row1 col0\" >0.672248</td>\n",
              "                        <td id=\"T_427ab4de_b5d6_11ec_9fc5_d45d64613077row1_col1\" class=\"data row1 col1\" >1.000000</td>\n",
              "            </tr>\n",
              "    </tbody></table>"
            ],
            "text/plain": [
              "<pandas.io.formats.style.Styler at 0x1591c0aff40>"
            ]
          },
          "execution_count": 10,
          "metadata": {},
          "output_type": "execute_result"
        }
      ],
      "source": [
        "corr = data1.corr()\n",
        "corr.style.background_gradient(cmap='bwr') #vẽ biểu đồ heat map (biểu đồ nhiệt)"
      ]
    },
    {
      "cell_type": "code",
      "execution_count": null,
      "metadata": {
        "id": "chsmQHzAZGdp",
        "outputId": "fc388e73-1bba-40b2-d3a8-840284ee7209"
      },
      "outputs": [
        {
          "data": {
            "text/plain": [
              "<seaborn.axisgrid.PairGrid at 0x1591cc534c0>"
            ]
          },
          "execution_count": 11,
          "metadata": {},
          "output_type": "execute_result"
        },
        {
          "data": {
            "image/png": "[encoded data removed]",
            "text/plain": [
              "<Figure size 360x360 with 6 Axes>"
            ]
          },
          "metadata": {
            "needs_background": "light"
          },
          "output_type": "display_data"
        }
      ],
      "source": [
        "sns.pairplot(data1) #biểu đồ pair plot (biểu đồ cặp)"
      ]
    },
    {
      "cell_type": "markdown",
      "metadata": {
        "id": "1-Sf7kRkZGdq"
      },
      "source": [
        "Câu 9: Đối với các cột dữ liệu định tính, hãy:\n",
        "- Vẽ biểu đồ cột dạng đứng\n",
        "- Vẽ biểu đồ cột dạng ngang\n",
        "- Vẽ biểu đồ đường tròn\n",
        "- Vẽ biểu đồ Pareto"
      ]
    },
    {
      "cell_type": "code",
      "execution_count": null,
      "metadata": {
        "id": "P1lE_hV1ZGdq",
        "outputId": "13974368-bfff-4f22-9ec8-70f22d3e1669"
      },
      "outputs": [
        {
          "name": "stdout",
          "output_type": "stream",
          "text": [
            "0         1\n",
            "1         0\n",
            "2         0\n",
            "3         0\n",
            "4         0\n",
            "         ..\n",
            "174099    0\n",
            "174100    0\n",
            "174101    1\n",
            "174102    0\n",
            "174103    0\n",
            "Name: Aircraft Damage, Length: 174104, dtype: int64\n",
            "['Record ID', 'Incident Year', 'Incident Month', 'Incident Day', 'Operator ID', 'Operator', 'Aircraft', 'Aircraft Type', 'Aircraft Make', 'Aircraft Model', 'Aircraft Mass', 'Engine Make', 'Engine Model', 'Engines', 'Engine Type', 'Engine1 Position', 'Engine2 Position', 'Engine3 Position', 'Engine4 Position', 'Airport ID', 'Airport', 'State', 'FAA Region', 'Warning Issued', 'Flight Phase', 'Visibility', 'Precipitation', 'Height', 'Speed', 'Distance', 'Species ID', 'Species Name', 'Species Quantity', 'Flight Impact', 'Fatalities', 'Injuries', 'Aircraft Damage', 'Radome Strike', 'Radome Damage', 'Windshield Strike', 'Windshield Damage', 'Nose Strike', 'Nose Damage', 'Engine1 Strike', 'Engine1 Damage', 'Engine2 Strike', 'Engine2 Damage', 'Engine3 Strike', 'Engine3 Damage', 'Engine4 Strike', 'Engine4 Damage', 'Engine Ingested', 'Propeller Strike', 'Propeller Damage', 'Wing or Rotor Strike', 'Wing or Rotor Damage', 'Fuselage Strike', 'Fuselage Damage', 'Landing Gear Strike', 'Landing Gear Damage', 'Tail Strike', 'Tail Damage', 'Lights Strike', 'Lights Damage', 'Other Strike', 'Other Damage']\n",
            "36\n",
            "66\n",
            "        Aircraft Damage  Radome Strike  Radome Damage  Windshield Strike  \\\n",
            "0                     1              1              1                  0   \n",
            "1                     0              0              0                  0   \n",
            "2                     0              0              0                  0   \n",
            "3                     0              0              0                  0   \n",
            "4                     0              0              0                  1   \n",
            "...                 ...            ...            ...                ...   \n",
            "174099                0              0              0                  0   \n",
            "174100                0              0              0                  1   \n",
            "174101                1              0              0                  0   \n",
            "174102                0              0              0                  0   \n",
            "174103                0              0              0                  0   \n",
            "\n",
            "        Windshield Damage  Nose Strike  Nose Damage  Engine1 Strike  \\\n",
            "0                       0            0            0               0   \n",
            "1                       0            0            0               0   \n",
            "2                       0            0            0               0   \n",
            "3                       0            0            0               0   \n",
            "4                       0            0            0               0   \n",
            "...                   ...          ...          ...             ...   \n",
            "174099                  0            0            0               0   \n",
            "174100                  0            0            0               0   \n",
            "174101                  0            0            0               0   \n",
            "174102                  0            0            0               0   \n",
            "174103                  0            0            0               0   \n",
            "\n",
            "        Engine1 Damage  Engine2 Strike  ...  Fuselage Strike  Fuselage Damage  \\\n",
            "0                    0               0  ...                0                0   \n",
            "1                    0               0  ...                0                0   \n",
            "2                    0               0  ...                0                0   \n",
            "3                    0               0  ...                0                0   \n",
            "4                    0               0  ...                0                0   \n",
            "...                ...             ...  ...              ...              ...   \n",
            "174099               0               0  ...                0                0   \n",
            "174100               0               0  ...                0                0   \n",
            "174101               0               0  ...                1                1   \n",
            "174102               0               0  ...                1                0   \n",
            "174103               0               0  ...                0                0   \n",
            "\n",
            "        Landing Gear Strike  Landing Gear Damage  Tail Strike  Tail Damage  \\\n",
            "0                         0                    0            1            1   \n",
            "1                         0                    0            0            0   \n",
            "2                         0                    0            0            0   \n",
            "3                         0                    0            0            0   \n",
            "4                         0                    0            0            0   \n",
            "...                     ...                  ...          ...          ...   \n",
            "174099                    0                    0            0            0   \n",
            "174100                    0                    0            0            0   \n",
            "174101                    0                    0            0            0   \n",
            "174102                    0                    0            0            0   \n",
            "174103                    0                    0            0            0   \n",
            "\n",
            "        Lights Strike  Lights Damage  Other Strike  Other Damage  \n",
            "0                   0              0             0             0  \n",
            "1                   0              0             1             0  \n",
            "2                   0              0             0             0  \n",
            "3                   0              0             0             0  \n",
            "4                   0              0             0             0  \n",
            "...               ...            ...           ...           ...  \n",
            "174099              0              0             0             0  \n",
            "174100              0              0             0             0  \n",
            "174101              0              0             0             0  \n",
            "174102              0              0             0             0  \n",
            "174103              0              0             1             0  \n",
            "\n",
            "[174104 rows x 30 columns]\n"
          ]
        }
      ],
      "source": [
        "print(data['Aircraft Damage'])\n",
        "#print(data.index('Aircraft Damage'))\n",
        "#row = data.iloc[:0] #lấy ra hàng 1 trong data\n",
        "#print(row1)\n",
        "#print(row1.index('Aircraft Damage'))\n",
        "row = []\n",
        "for i in data:\n",
        "    row.append(i)\n",
        "print(row)\n",
        "print(row.index('Aircraft Damage')) #lấy ra vị trí cột aircraft damage\n",
        "print(len(row)) #lấy ra vị trí cột cuối cùng trong data\n",
        "data2 = data.iloc[:,range(36,66)]\n",
        "print(data2)"
      ]
    },
    {
      "cell_type": "code",
      "execution_count": null,
      "metadata": {
        "id": "oHGXU-QBZGdq",
        "outputId": "49139b2a-e8fe-4560-e699-f91fba8f30e2"
      },
      "outputs": [
        {
          "name": "stdout",
          "output_type": "stream",
          "text": [
            "       Aircraft Type  Height\n",
            "1                  A     0.0\n",
            "3                  A   200.0\n",
            "4                  A   100.0\n",
            "5                  A     0.0\n",
            "10                 A    60.0\n",
            "...              ...     ...\n",
            "174097             A     0.0\n",
            "174098             A  2000.0\n",
            "174100             A  5000.0\n",
            "174101             A  3000.0\n",
            "174102             A  6000.0\n",
            "\n",
            "[100635 rows x 2 columns]\n",
            "       Aircraft Type  Height\n",
            "42                 B    50.0\n",
            "87                 B     0.0\n",
            "299                B   650.0\n",
            "377                B   800.0\n",
            "691                B     0.0\n",
            "...              ...     ...\n",
            "173935             B    10.0\n",
            "173985             B  1500.0\n",
            "174030             B   900.0\n",
            "174052             B    10.0\n",
            "174095             B  1300.0\n",
            "\n",
            "[1789 rows x 2 columns]\n",
            "50.0 900.0\n",
            "                min_height  median_height  max_height\n",
            "AircraftType_A         0.0           50.0     31300.0\n",
            "AircraftType_B         0.0          900.0      8500.0\n"
          ]
        },
        {
          "data": {
            "image/png": "[encoded data removed]",
            "text/plain": [
              "<Figure size 432x288 with 1 Axes>"
            ]
          },
          "metadata": {
            "needs_background": "light"
          },
          "output_type": "display_data"
        }
      ],
      "source": [
        "#biểu đồ dạng đứng (bar)\n",
        "\n",
        "aircraft_type_A = data[(data['Aircraft Type'] == 'A')]\n",
        "data_aircraft_type_A = pd.DataFrame(columns = ['Aircraft Type', 'Height'], data=aircraft_type_A)\n",
        "data_aircraft_type_A = data_aircraft_type_A.dropna() #loại bỏ các giá trị NA\n",
        "\n",
        "aircraft_type_B = data[(data['Aircraft Type'] == 'B')]\n",
        "data_aircraft_type_B = pd.DataFrame(columns = ['Aircraft Type', 'Height'],data=aircraft_type_B)\n",
        "data_aircraft_type_B = data_aircraft_type_B.dropna() #loại bỏ các giá trị NA\n",
        "\n",
        "print(data_aircraft_type_A)\n",
        "print(data_aircraft_type_B)\n",
        "\n",
        "print(data_aircraft_type_A['Height'].median(), data_aircraft_type_B['Height'].median())\n",
        "\n",
        "Aircraft_Type = ['AircraftType_A', 'AircraftType_B']\n",
        "height = {'min_height': [data_aircraft_type_A['Height'].min(), data_aircraft_type_B['Height'].min()],\n",
        "          'median_height': [data_aircraft_type_A['Height'].median(), data_aircraft_type_B['Height'].median()],\n",
        "          'max_height': [data_aircraft_type_A['Height'].max(), data_aircraft_type_B['Height'].max()]}\n",
        "\n",
        "df = pd.DataFrame(height, index = Aircraft_Type)\n",
        "print(df)\n",
        "\n",
        "#vẽ biểu đồ dựa trên dataframe\n",
        "#https://www.shanelynn.ie/bar-plots-in-python-using-pandas-dataframes/\n",
        "\n",
        "df.plot(kind=\"bar\") #kind: loại biểu đồ\n",
        "plt.title('Biểu đồ cột so sánh height của hai loại A, B')\n",
        "plt.xlabel(Aircraft_Type)\n",
        "plt.ylabel(height)\n",
        "plt.show()"
      ]
    },
    {
      "cell_type": "code",
      "execution_count": null,
      "metadata": {
        "id": "CmmkimfRZGdr",
        "outputId": "83681d3c-bfb5-4f20-eb5e-b0425bcd3c2e"
      },
      "outputs": [
        {
          "data": {
            "image/png": "[encoded data removed]",
            "text/plain": [
              "<Figure size 432x288 with 1 Axes>"
            ]
          },
          "metadata": {
            "needs_background": "light"
          },
          "output_type": "display_data"
        }
      ],
      "source": [
        "#biểu đồ dạng ngang (barh)\n",
        "\n",
        "df.plot(kind=\"barh\") #kind: loại biểu đồ\n",
        "plt.title('Biểu đồ cột so sánh height của hai loại A, B')\n",
        "plt.xlabel(Aircraft_Type)\n",
        "plt.ylabel(height)\n",
        "plt.show()"
      ]
    },
    {
      "cell_type": "code",
      "execution_count": null,
      "metadata": {
        "id": "by0qsR7WZGdr",
        "outputId": "af83bfa5-f06a-41b6-dea7-7c49297a722a"
      },
      "outputs": [
        {
          "data": {
            "image/png": "[encoded data removed]",
            "text/plain": [
              "<Figure size 432x288 with 1 Axes>"
            ]
          },
          "metadata": {},
          "output_type": "display_data"
        }
      ],
      "source": [
        "#biểu đồ đường tròn\n",
        "\n",
        "height_median = [data_aircraft_type_A['Height'].median(), data_aircraft_type_B['Height'].median()]\n",
        "\n",
        "plt.pie(height_median, labels = Aircraft_Type, startangle = 90) #The startangle parameter is defined with an angle in degrees, default angle is 0\n",
        "plt.title('Biểu đồ tròn')\n",
        "plt.axis('equal')\n",
        "plt.show()"
      ]
    },
    {
      "cell_type": "code",
      "execution_count": null,
      "metadata": {
        "id": "QH1LWf-gZGds",
        "outputId": "bcbedb97-29f3-4ea8-ad75-e2e64aa9c14a"
      },
      "outputs": [
        {
          "name": "stdout",
          "output_type": "stream",
          "text": [
            "[85.0, 130.0, 120.0, 140.0]\n",
            "   median_speed\n",
            "A          85.0\n",
            "B         130.0\n",
            "C         120.0\n",
            "D         140.0\n",
            "   median_speed     cumperc\n",
            "D         140.0   29.473684\n",
            "B         130.0   56.842105\n",
            "C         120.0   82.105263\n",
            "A          85.0  100.000000\n"
          ]
        },
        {
          "data": {
            "image/png": "[encoded data removed]",
            "text/plain": [
              "<Figure size 432x288 with 2 Axes>"
            ]
          },
          "metadata": {
            "needs_background": "light"
          },
          "output_type": "display_data"
        }
      ],
      "source": [
        "#vẽ biểu đồ pareto\n",
        "\n",
        "#giấ trị trung bình tốc độ của từng loại động cơ để xem máy bay xài động cơ nào ở tốc độ bao nhiêu thì nguy cơ xảy ra tai nạn cao nhất\n",
        "\n",
        "engine_type = ['A', 'B', 'C', 'D']\n",
        "median_speed = []\n",
        "\n",
        "for i in engine_type:\n",
        "    e_t = data[(data['Engine Type'] == i)]\n",
        "    data_e_t = pd.DataFrame(columns = ['Engine Type', 'Speed'], data=e_t)\n",
        "    data_e_t = data_e_t.dropna() #loại bỏ các giá trị NA\n",
        "    median_speed.append(data_e_t['Speed'].median())\n",
        "print(median_speed)\n",
        "\n",
        "df = pd.DataFrame({'median_speed': median_speed}, index=engine_type)\n",
        "print(df)\n",
        "\n",
        "#sắp xếp cột median speed trong data theo thứ tự giảm dần\n",
        "df = df.sort_values(by = 'median_speed', ascending = False) #ascending: cách thức sắp xếp mặc định là True (tăng dần)\n",
        "\n",
        "#thêm cột và tính giá trị phần trăm tích lũy (Cumulative percentage)\n",
        "df['cumperc'] = df['median_speed'].cumsum()/df['median_speed'].sum()*100 #cumsum () được sử dụng khi chúng ta muốn tính tổng tích lũy của các phần tử mảng trên một trục nhất định.\n",
        "\n",
        "print(df)\n",
        "\n",
        "#vẽ biểu đồ pareto\n",
        "\n",
        "#kích thước, màu cho biểu đồ\n",
        "color1 = 'steelblue'\n",
        "color2 = 'red'\n",
        "line_size = 4\n",
        "\n",
        "#tạo khung\n",
        "fig, ax = plt.subplots()\n",
        "ax.bar(df.index, df['median_speed'], color=color1)\n",
        "\n",
        "ax2 = ax.twinx()\n",
        "ax2.plot(df.index, df['cumperc'], marker='D', color=color2, ms=line_size)\n",
        "ax2.yaxis.set_major_formatter(PercentFormatter())\n",
        "\n",
        "ax.tick_params(axis='y', colors=color1)\n",
        "ax2.tick_params(axis='y', colors=color2)\n",
        "\n",
        "plt.show()"
      ]
    },
    {
      "cell_type": "code",
      "execution_count": null,
      "metadata": {
        "id": "dK8PNV7mZGds",
        "outputId": "86542647-a8d4-4621-ceb9-91c58c4dbd48"
      },
      "outputs": [
        {
          "name": "stdout",
          "output_type": "stream",
          "text": [
            "<class 'pandas.core.frame.DataFrame'>\n"
          ]
        }
      ],
      "source": [
        "#print(data[:36])\n",
        "b = data.iloc[:,range(36,66)]\n",
        "print(type(b))"
      ]
    }
  ],
  "metadata": {
    "kernelspec": {
      "display_name": "Python 3",
      "language": "python",
      "name": "python3"
    },
    "language_info": {
      "codemirror_mode": {
        "name": "ipython",
        "version": 3
      },
      "file_extension": ".py",
      "mimetype": "text/x-python",
      "name": "python",
      "nbconvert_exporter": "python",
      "pygments_lexer": "ipython3",
      "version": "3.8.3"
    },
    "colab": {
      "name": "pandas4-Tổng hợp các thao tác thống kê mô tả.ipynb",
      "provenance": [],
      "collapsed_sections": [],
      "include_colab_link": true
    }
  },
  "nbformat": 4,
  "nbformat_minor": 0
}