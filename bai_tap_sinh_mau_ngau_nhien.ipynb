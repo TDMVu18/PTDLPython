{
  "cells": [
    {
      "cell_type": "markdown",
      "metadata": {
        "id": "view-in-github",
        "colab_type": "text"
      },
      "source": [
        "<a href=\"https://colab.research.google.com/github/TDMVu18/PTDLPython/blob/main/bai_tap_sinh_mau_ngau_nhien.ipynb\" target=\"_parent\"><img src=\"https://colab.research.google.com/assets/colab-badge.svg\" alt=\"Open In Colab\"/></a>"
      ]
    },
    {
      "cell_type": "markdown",
      "metadata": {
        "id": "cQ8sqsrxR0bh"
      },
      "source": [
        "Sử dụng thư viện Numpy\n",
        "\n",
        "1. Sinh mẫu ngẫu nhiên bằng hàm arange trong khoảng [-15, 27] với khoảng cách là 0.7 và in kết quả ra màn hình"
      ]
    },
    {
      "cell_type": "code",
      "source": [
        "import numpy as np\n"
      ],
      "metadata": {
        "id": "jOeJZ4IKR_lA"
      },
      "execution_count": 2,
      "outputs": []
    },
    {
      "cell_type": "code",
      "execution_count": 3,
      "metadata": {
        "colab": {
          "base_uri": "https://localhost:8080/"
        },
        "id": "sDbtRzziR0bo",
        "outputId": "842302d5-9754-45fd-cb2c-4a0fd669c43e"
      },
      "outputs": [
        {
          "output_type": "stream",
          "name": "stdout",
          "text": [
            "[-15.  -14.3 -13.6 -12.9 -12.2 -11.5 -10.8 -10.1  -9.4  -8.7  -8.   -7.3\n",
            "  -6.6  -5.9  -5.2  -4.5  -3.8  -3.1  -2.4  -1.7  -1.   -0.3   0.4   1.1\n",
            "   1.8   2.5   3.2   3.9   4.6   5.3   6.    6.7   7.4   8.1   8.8   9.5\n",
            "  10.2  10.9  11.6  12.3  13.   13.7  14.4  15.1  15.8  16.5  17.2  17.9\n",
            "  18.6  19.3  20.   20.7  21.4  22.1  22.8  23.5  24.2  24.9  25.6  26.3\n",
            "  27. ]\n"
          ]
        }
      ],
      "source": [
        "#Code \n",
        "sample1 = np.arange(-15,27,0.7)\n",
        "print(sample1)"
      ]
    },
    {
      "cell_type": "markdown",
      "metadata": {
        "id": "aWLdsImoR0bq"
      },
      "source": [
        "2. Sinh mẫu ngẫu nhiên theo phân phối chuẩn với mean = 2.7 std = 1.2 và size = 40\n",
        "In kết quả ra màn hình"
      ]
    },
    {
      "cell_type": "code",
      "execution_count": 4,
      "metadata": {
        "colab": {
          "base_uri": "https://localhost:8080/"
        },
        "id": "8E4tGyh2R0br",
        "outputId": "206a34e9-8c10-498b-ea5c-c6785d26a39f"
      },
      "outputs": [
        {
          "output_type": "stream",
          "name": "stdout",
          "text": [
            "[0.68636876 1.92314968 2.47228954 3.5207166  3.31043341 2.3923792\n",
            " 2.99002932 3.59250414 3.04466225 4.39028232 0.81308531 1.85434308\n",
            " 2.29590515 3.27479499 3.73132343 2.18138325 4.51886393 2.01170939\n",
            " 4.38288998 1.00334717 4.46508435 0.98880623 2.95092302 1.60067621\n",
            " 1.29888663 2.1645121  2.59387349 3.07999178 3.1132552  4.52940988\n",
            " 2.79615443 1.72727723 3.67663529 1.32523669 0.24449165 1.17342166\n",
            " 0.27660069 1.17116387 2.23369529 1.72286537]\n"
          ]
        }
      ],
      "source": [
        "#Code\n",
        "sample2 = np.random.normal(loc = 2.7, scale = 1.2, size = 40)\n",
        "print(sample2)"
      ]
    },
    {
      "cell_type": "markdown",
      "metadata": {
        "id": "1U6lR2siR0br"
      },
      "source": [
        "3. Sinh mẫu ngẫu nhiên từ vector ['Viet Nam', 'Britain', 'France', 'Russia', 'Singapore'] \n",
        "\n",
        "với kích thước là 17 theo phân phối chuẩn"
      ]
    },
    {
      "cell_type": "code",
      "execution_count": 5,
      "metadata": {
        "colab": {
          "base_uri": "https://localhost:8080/"
        },
        "id": "9MZxyvJ_R0bs",
        "outputId": "ec96a82a-97ab-4ec2-fad9-e217fdfeedf9"
      },
      "outputs": [
        {
          "output_type": "stream",
          "name": "stdout",
          "text": [
            "['Singapore' 'Singapore' 'France' 'France' 'Viet Nam' 'Russia' 'Russia'\n",
            " 'Viet Nam' 'Viet Nam' 'Viet Nam' 'Britain' 'Russia' 'Singapore'\n",
            " 'Singapore' 'Singapore' 'Singapore' 'Britain']\n"
          ]
        }
      ],
      "source": [
        "#Code\n",
        "sample3 = np.random.choice(['Viet Nam', 'Britain', 'France', 'Russia', 'Singapore'],17)\n",
        "print(sample3)"
      ]
    },
    {
      "cell_type": "markdown",
      "metadata": {
        "id": "AmLXClJlR0bs"
      },
      "source": [
        "4. Sinh mẫu ngẫu nhiên ở câu 3 nhưng không theo phân phối chuẩn mà theo 1 vector đặc tả giá trị xác suất do bạn chọn"
      ]
    },
    {
      "cell_type": "code",
      "execution_count": 7,
      "metadata": {
        "id": "_GtyJPzoR0bt",
        "outputId": "f2af1e12-cf10-4aa8-f92c-b8ab79d7e9c0",
        "colab": {
          "base_uri": "https://localhost:8080/"
        }
      },
      "outputs": [
        {
          "output_type": "stream",
          "name": "stdout",
          "text": [
            "['France' 'France' 'Singapore' 'Russia' 'Singapore']\n"
          ]
        }
      ],
      "source": [
        "#Code\n",
        "sample4 = np.random.choice(['Viet Nam', 'Britain', 'France', 'Russia', 'Singapore'], 5, p = [0.2, 0.1, 0.5, 0.1, 0.1])\n",
        "print(sample4)\n"
      ]
    },
    {
      "cell_type": "markdown",
      "metadata": {
        "id": "vy6K2m3UR0bu"
      },
      "source": [
        "Sử dụng thư việc scipy.stats để sinh mẫu ngẫu nhiên\n",
        "\n",
        "1. Sinh mẫu ngẫu nhiên theo phân phối chuẩn với mean = 12.7, std = 2.6 và size = 30. In kết quả ra màn hình"
      ]
    },
    {
      "cell_type": "code",
      "execution_count": 8,
      "metadata": {
        "id": "_rvQWf8VR0bv",
        "outputId": "f6565b23-0f69-4d2f-bb02-09ed71fca5b0",
        "colab": {
          "base_uri": "https://localhost:8080/"
        }
      },
      "outputs": [
        {
          "output_type": "stream",
          "name": "stdout",
          "text": [
            "[11.41904593 12.24093518 11.29760807 12.68767741 14.20481377 14.06710001\n",
            " 10.3944671  10.21142317 12.71708243 14.41712176  9.81382669 10.54071169\n",
            " 10.09984082 13.70408796 17.60690448 12.43711831 11.63083035 16.59996412\n",
            " 14.39213554 12.69984329 12.14641474 14.86457551 13.2074784  14.56248662\n",
            " 13.51951761 14.02548197 10.1859906  12.64023007 15.9639457   9.44434257]\n"
          ]
        }
      ],
      "source": [
        "#Code\n",
        "from scipy import stats\n",
        "sample5 = stats.norm.rvs(loc = 12.7, scale = 2.6, size = 30)\n",
        "print(sample5)"
      ]
    },
    {
      "cell_type": "markdown",
      "metadata": {
        "id": "PSy0MAuVR0bw"
      },
      "source": [
        "2. Hãy sinh một mẫu ngẫu nhiên theo phân phối Poisson"
      ]
    },
    {
      "cell_type": "code",
      "execution_count": 11,
      "metadata": {
        "id": "9PDIWPrIR0bw",
        "outputId": "00b61624-5295-4451-bae1-518e819091fe",
        "colab": {
          "base_uri": "https://localhost:8080/"
        }
      },
      "outputs": [
        {
          "output_type": "stream",
          "name": "stdout",
          "text": [
            "[48 50 41 52 49 51 49 46 40 45 43 52 50 53 49 49 42 44 43 55 50 47 55 49\n",
            " 45 47 63 49 56 45 42 44 47 44 46 49 47 53 43 52 46 45 47 55 45 56 57 55\n",
            " 50 44 46 46 64 40 51 47 46 43 60 46 41 49 47 52 45 51 44 48 46 50 50 42\n",
            " 50 43 50 51 41 51 35 57 55 42 44 44 59 58 49 50 57 47 53 40 40 49 48 47\n",
            " 47 45 50 47 55 47 60 42 40 63 51 44 50 62 51 48 35 46 45 52 43 44 53 53\n",
            " 43 46 46 52 56 53 60 52 40 47 55 46 48 48 47 51 46 52 51 53 54 44 48 50\n",
            " 40 45 44 49 44 39 37 43 51 60 44 53 48 39 45 40 45 49 49 46 47 56 42 34\n",
            " 43 54 60 48 43 44 46 46 58 36 50 40 41 40 46 47 52 54 51 43 46 49 49 48\n",
            " 49 47 50 49 50 51 49 48 44 47 49 50 52 51 52 49 59 51 44 44 53 55 55 55\n",
            " 46 37 53 48 46 53 52 43 47 48 54 46 46 45 45 54 47 53 54 56 52 54 56 48\n",
            " 43 48 56 46 48 56 52 63 54 41 39 44 49 45 39 57 50 55 52 50 46 45 44 48\n",
            " 51 47 49 52 56 49 59 50 44 54 44 42 46 54 45 59 49 48 49 43 52 52 54 60\n",
            " 44 42 42 57 47 43 40 41 48 50 51 55 45 51 42 51 38 48 44 49 37 48 40 54\n",
            " 47 52 45 39 49 42 51 48 50 43 37 50 51 44 43 55 48 40 49 59 49 44 50 40\n",
            " 49 48 49 49 44 47 51 46 41 45 47 45 45 43 55 51 46 56 48 45 47 50 48 42\n",
            " 58 45 47 43 45 45 41 50 50 45 57 48 51 46 49 40 38 42 48 42 55 41 43 48\n",
            " 44 47 43 47 47 50 47 43 51 40 54 48 45 41 44 45 42 47 49 42 52 53 47 51\n",
            " 58 47 48 51 54 42 47 45 48 46 59 48 61 46 55 47 42 45 45 56 55 47 47 45\n",
            " 47 50 47 53 53 48 46 55 49 48 43 49 41 42 42 51 38 55 48 49 47 46 46 49\n",
            " 47 46 58 55 48 44 42 38 43 38 50 38 51 49 53 44 51 43 50 54 40 43 49 48\n",
            " 46 44 42 45 46 44 46 42 44 51 43 55 44 54 50 46 57 47 49 47 47 58 50 48\n",
            " 45 53 42 49 49 43 52 52 51 41 48 56 52 53 46 43 51 60 45 45 54 50 44 45\n",
            " 47 40 50 33 43 46 43 48 48 46 44 43 45 46 40 45 48 43 49 38 44 48 48 56\n",
            " 51 49 53 48 34 49 38 53 50 45 44 48 41 47 45 43 49 55 47 49 51 41 57 46\n",
            " 51 43 44 56 50 56 42 57 51 43 44 48 46 59 46 46 47 47 48 43 52 45 48 42\n",
            " 49 54 46 46 47 52 44 50 48 49 56 43 56 46 48 40 48 46 50 44 40 38 45 39\n",
            " 40 46 49 46 52 44 51 48 49 55 46 47 43 52 44 49 47 43 42 50 52 53 50 53\n",
            " 52 49 49 43 53 51 38 50 50 47 57 36 44 40 41 50 53 52 44 46 44 49 58 55\n",
            " 39 40 53 54 45 47 48 43 42 60 38 52 48 43 48 47 42 52 54 54 47 36 51 48\n",
            " 50 52 53 43 57 46 30 42 51 45 42 51 52 47 48 44 49 38 55 39 49 48 41 44\n",
            " 42 43 41 44 50 48 53 52 57 51 47 43 46 51 41 50 55 50 55 41 45 41 40 51\n",
            " 52 42 55 38 53 58 52 52 50 45 54 50 44 43 52 46 49 44 55 59 52 45 49 44\n",
            " 48 46 44 50 54 42 47 47 44 52 44 52 53 36 53 46 41 47 41 51 47 49 36 58\n",
            " 46 44 41 48 53 53 43 39 42 43 48 46 50 52 49 42 39 57 51 41 47 57 51 47\n",
            " 49 50 53 47 49 46 48 50 54 44 54 36 41 48 54 45 63 42 46 52 46 39 45 40\n",
            " 46 50 43 43 49 51 51 47 51 43 46 48 38 44 38 53 52 44 40 47 40 45 43 56\n",
            " 45 51 52 48 45 53 46 60 44 54 46 58 51 44 53 54 42 56 37 62 41 48 48 51\n",
            " 54 46 56 49 45 37 50 50 49 57 52 38 52 45 46 46 52 46 57 39 56 56 50 53\n",
            " 50 42 48 46 54 40 50 44 48 41 49 49 48 45 50 55 43 46 51 49 48 35 47 44\n",
            " 56 40 43 53 47 43 40 66 49 43 60 39 52 60 39 46 59 46 55 52 43 40 38 59\n",
            " 47 47 38 39 46 46 51 47 40 44 45 49 52 42 53 51 49 43 48 47 45 49 55 51\n",
            " 58 48 45 50 54 47 56 54 38 44 52 55 44 45 47 44]\n"
          ]
        }
      ],
      "source": [
        "#Code\n",
        "sample6 = stats.poisson.rvs(loc=18,\n",
        "                              mu=30,\n",
        "                              size=1000)\n",
        "print(sample6)"
      ]
    },
    {
      "cell_type": "code",
      "execution_count": null,
      "metadata": {
        "id": "762rwqLMR0bw"
      },
      "outputs": [],
      "source": [
        ""
      ]
    }
  ],
  "metadata": {
    "kernelspec": {
      "display_name": "Python 3",
      "language": "python",
      "name": "python3"
    },
    "language_info": {
      "codemirror_mode": {
        "name": "ipython",
        "version": 3
      },
      "file_extension": ".py",
      "mimetype": "text/x-python",
      "name": "python",
      "nbconvert_exporter": "python",
      "pygments_lexer": "ipython3",
      "version": "3.7.3"
    },
    "colab": {
      "name": "bai-tap-sinh-mau-ngau-nhien.ipynb",
      "provenance": [],
      "include_colab_link": true
    }
  },
  "nbformat": 4,
  "nbformat_minor": 0
}