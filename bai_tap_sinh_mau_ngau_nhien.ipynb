{
  "cells": [
    {
      "cell_type": "markdown",
      "metadata": {
        "id": "view-in-github",
        "colab_type": "text"
      },
      "source": [
        "<a href=\"https://colab.research.google.com/github/TDMVu18/PTDLPython/blob/main/bai_tap_sinh_mau_ngau_nhien.ipynb\" target=\"_parent\"><img src=\"https://colab.research.google.com/assets/colab-badge.svg\" alt=\"Open In Colab\"/></a>"
      ]
    },
    {
      "cell_type": "markdown",
      "metadata": {
        "id": "cQ8sqsrxR0bh"
      },
      "source": [
        "Sử dụng thư viện Numpy\n",
        "\n",
        "1. Sinh mẫu ngẫu nhiên bằng hàm arange trong khoảng [-15, 27] với khoảng cách là 0.7 và in kết quả ra màn hình"
      ]
    },
    {
      "cell_type": "code",
      "source": [
        "import numpy as np\n"
      ],
      "metadata": {
        "id": "jOeJZ4IKR_lA"
      },
      "execution_count": null,
      "outputs": []
    },
    {
      "cell_type": "code",
      "execution_count": null,
      "metadata": {
        "colab": {
          "base_uri": "https://localhost:8080/"
        },
        "id": "sDbtRzziR0bo",
        "outputId": "c49fd322-82e1-42dd-ccb6-468e00e4e9d2"
      },
      "outputs": [
        {
          "output_type": "stream",
          "name": "stdout",
          "text": [
            "[-15.  -14.3 -13.6 -12.9 -12.2 -11.5 -10.8 -10.1  -9.4  -8.7  -8.   -7.3\n",
            "  -6.6  -5.9  -5.2  -4.5  -3.8  -3.1  -2.4  -1.7  -1.   -0.3   0.4   1.1\n",
            "   1.8   2.5   3.2   3.9   4.6   5.3   6.    6.7   7.4   8.1   8.8   9.5\n",
            "  10.2  10.9  11.6  12.3  13.   13.7  14.4  15.1  15.8  16.5  17.2  17.9\n",
            "  18.6  19.3  20.   20.7  21.4  22.1  22.8  23.5  24.2  24.9  25.6  26.3\n",
            "  27. ]\n"
          ]
        }
      ],
      "source": [
        "#Code \n",
        "sample1 = np.arange(-15,27,0.7)\n",
        "print(sample1)"
      ]
    },
    {
      "cell_type": "markdown",
      "metadata": {
        "id": "aWLdsImoR0bq"
      },
      "source": [
        "2. Sinh mẫu ngẫu nhiên theo phân phối chuẩn với mean = 2.7 std = 1.2 và size = 40\n",
        "In kết quả ra màn hình"
      ]
    },
    {
      "cell_type": "code",
      "execution_count": null,
      "metadata": {
        "colab": {
          "base_uri": "https://localhost:8080/"
        },
        "id": "8E4tGyh2R0br",
        "outputId": "a8a8b90f-ca8e-4b30-d6e3-94d410835ada"
      },
      "outputs": [
        {
          "output_type": "stream",
          "name": "stdout",
          "text": [
            "[2.20562446 4.53042354 1.07777277 2.60023434 2.54929932 2.2342795\n",
            " 1.18447863 2.5887106  1.56113124 3.48224937 4.00017888 3.04750842\n",
            " 3.58801559 3.81909492 3.26840388 4.51524182 2.97703501 1.94004804\n",
            " 3.02567097 1.50525012 4.15089764 3.02817589 3.64926401 3.31636392\n",
            " 3.72836552 1.03122576 3.02415394 2.56018929 4.17131676 1.95854102\n",
            " 0.13074914 4.01159713 0.96379641 2.02962826 0.89300977 0.01186156\n",
            " 0.41255354 3.03307854 2.88894444 3.27662506]\n"
          ]
        }
      ],
      "source": [
        "#Code\n",
        "sample2 = np.random.normal(loc = 2.7, scale = 1.2, size = 40)\n",
        "print(sample2)"
      ]
    },
    {
      "cell_type": "markdown",
      "metadata": {
        "id": "1U6lR2siR0br"
      },
      "source": [
        "3. Sinh mẫu ngẫu nhiên từ vector ['Viet Nam', 'Britain', 'France', 'Russia', 'Singapore'] \n",
        "\n",
        "với kích thước là 17 theo phân phối chuẩn"
      ]
    },
    {
      "cell_type": "code",
      "execution_count": null,
      "metadata": {
        "colab": {
          "base_uri": "https://localhost:8080/"
        },
        "id": "9MZxyvJ_R0bs",
        "outputId": "5002cc94-0fb6-4870-f908-377921112a67"
      },
      "outputs": [
        {
          "output_type": "stream",
          "name": "stdout",
          "text": [
            "['Britain' 'Singapore' 'France' 'Viet Nam' 'Britain' 'Viet Nam' 'Russia'\n",
            " 'Singapore' 'Viet Nam' 'Russia' 'France' 'Russia' 'Britain' 'France'\n",
            " 'Singapore' 'Singapore' 'Viet Nam']\n"
          ]
        }
      ],
      "source": [
        "#Code\n",
        "sample3 = np.random.choice(['Viet Nam', 'Britain', 'France', 'Russia', 'Singapore'],17)\n",
        "print(sample3)"
      ]
    },
    {
      "cell_type": "markdown",
      "metadata": {
        "id": "AmLXClJlR0bs"
      },
      "source": [
        "4. Sinh mẫu ngẫu nhiên ở câu 3 nhưng không theo phân phối chuẩn mà theo 1 vector đặc tả giá trị xác suất do bạn chọn"
      ]
    },
    {
      "cell_type": "code",
      "execution_count": null,
      "metadata": {
        "id": "_GtyJPzoR0bt"
      },
      "outputs": [],
      "source": [
        "#Code"
      ]
    },
    {
      "cell_type": "markdown",
      "metadata": {
        "id": "vy6K2m3UR0bu"
      },
      "source": [
        "Sử dụng thư việc scipy.stats để sinh mẫu ngẫu nhiên\n",
        "\n",
        "1. Sinh mẫu ngẫu nhiên theo phân phối chuẩn với mean = 12.7, std = 2.6 và size = 30. In kết quả ra màn hình"
      ]
    },
    {
      "cell_type": "code",
      "execution_count": null,
      "metadata": {
        "id": "_rvQWf8VR0bv"
      },
      "outputs": [],
      "source": [
        "#Code"
      ]
    },
    {
      "cell_type": "markdown",
      "metadata": {
        "id": "PSy0MAuVR0bw"
      },
      "source": [
        "2. Hãy sinh một mẫu ngẫu nhiên theo phân phối Poisson"
      ]
    },
    {
      "cell_type": "code",
      "execution_count": null,
      "metadata": {
        "id": "9PDIWPrIR0bw"
      },
      "outputs": [],
      "source": [
        "#Code"
      ]
    },
    {
      "cell_type": "code",
      "execution_count": null,
      "metadata": {
        "id": "762rwqLMR0bw"
      },
      "outputs": [],
      "source": [
        ""
      ]
    }
  ],
  "metadata": {
    "kernelspec": {
      "display_name": "Python 3",
      "language": "python",
      "name": "python3"
    },
    "language_info": {
      "codemirror_mode": {
        "name": "ipython",
        "version": 3
      },
      "file_extension": ".py",
      "mimetype": "text/x-python",
      "name": "python",
      "nbconvert_exporter": "python",
      "pygments_lexer": "ipython3",
      "version": "3.7.3"
    },
    "colab": {
      "name": "bai-tap-sinh-mau-ngau-nhien.ipynb",
      "provenance": [],
      "include_colab_link": true
    }
  },
  "nbformat": 4,
  "nbformat_minor": 0
}