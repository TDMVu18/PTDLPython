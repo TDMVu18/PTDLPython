{
 "cells": [
  {
   "cell_type": "code",
   "execution_count": 1,
   "metadata": {},
   "outputs": [
    {
     "name": "stdout",
     "output_type": "stream",
     "text": [
      "[ 5  7 14]\n",
      "[ 1  2  3  4  5  6  7  8  9 10 11 12 13 14 15]\n",
      "[ 0  5  2  3 17]\n"
     ]
    }
   ],
   "source": [
    "import numpy as np\n",
    "import random\n",
    "import math\n",
    "#Bai 1\n",
    "_a = [5, 7, 14]\n",
    "a = np.array(_a)\n",
    "print(a)\n",
    "#Bai 2\n",
    "_b = [1, 2, 3, 4, 5, 6, 7, 8, 9, 10, 11, 12, 13, 14, 15]\n",
    "b = np.array(_b)\n",
    "print(b)\n",
    "#Bai 3\n",
    "n = int(input('Nhap so chieu:'))\n",
    "_c =[]\n",
    "for i in range(0,n):\n",
    "    x = random.randint(0,20)\n",
    "    _c.append(x)\n",
    "c = np.array(_c)\n",
    "print(c)\n",
    "\n",
    "\n",
    "\n"
   ]
  },
  {
   "cell_type": "code",
   "execution_count": 2,
   "metadata": {},
   "outputs": [
    {
     "name": "stdout",
     "output_type": "stream",
     "text": [
      "138\n",
      "Do dai vector OA: 11.74734012447073\n",
      "Diem A: [ 5  0  2 17] Diem B: [19  2 18  1] Vecto AB: [ 14   2  16 -16]\n",
      "Do dai vector AB: 26.68332812825267\n"
     ]
    }
   ],
   "source": [
    "#Bai 4\n",
    "oa = [7,-5, 8]\n",
    "s = 0\n",
    "for i in range(0, len(oa)):\n",
    "    vb = pow(oa[i],2)\n",
    "    s = s + vb\n",
    "print(s)\n",
    "s = math.sqrt(s)\n",
    "print('Do dai vector OA:', s)\n",
    "#Bai 5\n",
    "n1 = int(input('Nhap so chieu:'))\n",
    "a1 =[]\n",
    "for i in range(0,n1):\n",
    "    x = random.randint(0,20)\n",
    "    a1.append(x)\n",
    "a = np.array(a1)\n",
    "b1 =[]\n",
    "for i in range(0,n1):\n",
    "    x = random.randint(0,20)\n",
    "    b1.append(x)  \n",
    "b = np.array(b1) \n",
    "c1 = []\n",
    "for i in range(0,n1):\n",
    "    x = b1[i]-a1[i]\n",
    "    c1.append(x)\n",
    "c = np.array(c1)\n",
    "\n",
    "print('Diem A:',a,'Diem B:',b,'Vecto AB:',c)\n",
    "\n",
    "s = 0\n",
    "for i in range(0, len(c1)):\n",
    "    vb = pow(c1[i],2)\n",
    "    s = s + vb\n",
    "s = math.sqrt(s)\n",
    "print('Do dai vector AB:', s)\n",
    "\n",
    "\n"
   ]
  },
  {
   "cell_type": "code",
   "execution_count": 4,
   "metadata": {},
   "outputs": [
    {
     "name": "stdout",
     "output_type": "stream",
     "text": [
      "Vecto a: [10 11  5] Vecto b: [10  3 14] Tich vo huong: 203\n",
      "Tich co huong: [139 -90 -80]\n"
     ]
    }
   ],
   "source": [
    "#Bai6\n",
    "n1 = int(input('Nhap so chieu:'))\n",
    "a1 =[]\n",
    "for i in range(0,n1):\n",
    "    x = random.randint(0,20)\n",
    "    a1.append(x)\n",
    "a = np.array(a1)\n",
    "b1 =[]\n",
    "for i in range(0,n1):\n",
    "    x = random.randint(0,20)\n",
    "    b1.append(x)  \n",
    "b = np.array(b1)\n",
    "print('Vecto a:',a, 'Vecto b:', b, 'Tich vo huong:',np.inner(a,b))\n",
    "#Bai7\n",
    "c = np.cross(a,b, axisa = -1, axisb = -1)\n",
    "print('Tich co huong:',c)\n"
   ]
  },
  {
   "cell_type": "code",
   "execution_count": 8,
   "metadata": {},
   "outputs": [],
   "source": [
    "#Bai8\n",
    "n1 = int(input('Nhap so chieu:'))\n",
    "a1 =[]\n",
    "for i in range(0,n1):\n",
    "    x = random.randint(0,20)\n",
    "    a1.append(x)\n",
    "a = np.array(a1)\n",
    "print('Vecto a:',a1, 'Chuyen vi:',np.transpose(a))\n"
   ]
  },
  {
   "cell_type": "code",
   "execution_count": 3,
   "metadata": {},
   "outputs": [
    {
     "name": "stdout",
     "output_type": "stream",
     "text": [
      "[1, 2, 3, 4, 5] [[1], [2], [3], [4], [5]]\n",
      "[1 2 3 4 5] [[1]\n",
      " [2]\n",
      " [3]\n",
      " [4]\n",
      " [5]]\n",
      "[1 2 3 4 5] [[1 2 3 4 5]]\n"
     ]
    }
   ],
   "source": [
    "#Bai9\n",
    "a = [1,2,3,4,5]\n",
    "b = [[1],[2],[3],[4],[5]]\n",
    "print(a,b)\n",
    "va = np.array(a)\n",
    "vb = np.array(b)\n",
    "print(va,vb)\n",
    "trana = np.transpose(a)\n",
    "tranb = np.transpose(b)\n",
    "print(trana, tranb)\n"
   ]
  },
  {
   "cell_type": "code",
   "execution_count": 9,
   "metadata": {},
   "outputs": [
    {
     "name": "stdout",
     "output_type": "stream",
     "text": [
      "a: [5 7 4]\n",
      "m: 7\n",
      "m*a: [35 49 28]\n",
      "b: [13  3  4]\n",
      "a+b: [18 10  8]\n"
     ]
    }
   ],
   "source": [
    "#Bai 10\n",
    "n = int(input('Nhap so chieu:'))\n",
    "a1 =[]\n",
    "for i in range(0,n):\n",
    "    x = random.randint(0,20)\n",
    "    a1.append(x)\n",
    "a = np.array(a1)\n",
    "print('a:',a)\n",
    "m = random.randint(0,20)\n",
    "k1=[]\n",
    "for i in range(0, len(a1)):\n",
    "    x = m*a1[i]\n",
    "    k1.append(x)\n",
    "k = np.array(k1)\n",
    "print('m:',m)\n",
    "print('m*a:',k)\n",
    "b1 =[]\n",
    "for i in range(0,n):\n",
    "    x = random.randint(0,20)\n",
    "    b1.append(x)\n",
    "b = np.array(b1)\n",
    "print('b:',b)\n",
    "s1 = []\n",
    "for i in range(0,len(a1)):\n",
    "    x = a1[i]+b1[i]\n",
    "    s1.append(x)\n",
    "\n",
    "s = np.array(s1)\n",
    "\n",
    "print('a+b:',s)\n",
    "\n",
    "\n"
   ]
  }
 ],
 "metadata": {
  "interpreter": {
   "hash": "11f1dc213e07634baa4c5c321dec03c05dafae643c50f20e6d1a492290c05dc2"
  },
  "kernelspec": {
   "display_name": "Python 3.9.1 64-bit",
   "language": "python",
   "name": "python3"
  },
  "language_info": {
   "codemirror_mode": {
    "name": "ipython",
    "version": 3
   },
   "file_extension": ".py",
   "mimetype": "text/x-python",
   "name": "python",
   "nbconvert_exporter": "python",
   "pygments_lexer": "ipython3",
   "version": "3.9.1"
  },
  "orig_nbformat": 4
 },
 "nbformat": 4,
 "nbformat_minor": 2
}
