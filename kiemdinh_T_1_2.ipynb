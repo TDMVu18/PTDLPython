{
  "cells": [
    {
      "cell_type": "markdown",
      "metadata": {
        "id": "view-in-github",
        "colab_type": "text"
      },
      "source": [
        "<a href=\"https://colab.research.google.com/github/TDMVu18/PTDLPython/blob/main/kiemdinh_T_1_2.ipynb\" target=\"_parent\"><img src=\"https://colab.research.google.com/assets/colab-badge.svg\" alt=\"Open In Colab\"/></a>"
      ]
    },
    {
      "cell_type": "markdown",
      "metadata": {
        "id": "8OawZ8qv_vgM"
      },
      "source": [
        "HƯỚNG DẪN SUY DIỄN THỐNG KÊ BẰNG GÓI STATS CỦA THƯ VIỆN SCIPY"
      ]
    },
    {
      "cell_type": "markdown",
      "metadata": {
        "id": "eKxbag1L_vgU"
      },
      "source": [
        "1. Các thư viện cần thiết"
      ]
    },
    {
      "cell_type": "code",
      "execution_count": 28,
      "metadata": {
        "id": "v7xP_tQl_vgW"
      },
      "outputs": [],
      "source": [
        "import numpy as np\n",
        "import pandas as pd\n",
        "import random\n",
        "from scipy import stats as st\n",
        "from statsmodels.stats.weightstats import ztest\n",
        "import warnings\n",
        "import matplotlib.pyplot as plt\n",
        "import seaborn as sns\n",
        "\n",
        "%matplotlib inline"
      ]
    },
    {
      "cell_type": "markdown",
      "metadata": {
        "id": "BynXEXk6_vgZ"
      },
      "source": [
        "2. Thiết lập định dạng hình ảnh"
      ]
    },
    {
      "cell_type": "code",
      "execution_count": 2,
      "metadata": {
        "id": "RwJWhVY1_vga"
      },
      "outputs": [],
      "source": [
        "sns.set(rc={'figure.figsize':(13, 7.5)})\n",
        "sns.set_context('talk')"
      ]
    },
    {
      "cell_type": "markdown",
      "metadata": {
        "id": "cXPJPdx3_vgc"
      },
      "source": [
        "3. Tắt các cảnh báo của scipy"
      ]
    },
    {
      "cell_type": "code",
      "execution_count": 3,
      "metadata": {
        "id": "ooRc7QL__vge"
      },
      "outputs": [],
      "source": [
        "warnings.filterwarnings('ignore')"
      ]
    },
    {
      "cell_type": "markdown",
      "metadata": {
        "id": "C9XK5iSZ_vgg"
      },
      "source": [
        "4. Một số lưu ý khi kiểm định giả thuyết trong thống kê suy diễn\n",
        "\n",
        "(1) Cỡ mẫu thường phải đủ lớn ($n \\geq 30$) để có ý nghĩa thống kê\n",
        "\n",
        "(2) Các mẫu quan sát được (sample observations) phải được lựa chọn ngẫu nhiên từ quần thể\n",
        "\n",
        "(3) Các đại lượng như trung bình mẫu (sample mean), độ lệch chuẩn của mẫu (standard deviation), phương sai mẫu (sample variance) được tính từ tập mẫu quan sát được.\n",
        "\n",
        "(4) Giả định rằng quần thể được nghiên cứu lấy mẫu xấp xỉ với phân phối chuẩn."
      ]
    },
    {
      "cell_type": "markdown",
      "metadata": {
        "id": "k9daZ4ga_vgh"
      },
      "source": [
        "5. Các bước thực hiện kiểm định giả thuyết (sử dụng kiểm định z)\n",
        "\n",
        "Bước 1: Thực hiện các phép đo, hay thu thập dữ liệu quan sát\n",
        "\n",
        "Bước 2: Phát biểu giả thuyết $H_{0}$ và giả thuyết thay thế $H_{a}$\n",
        "\n",
        "Bước 3: Xác định mức $\\alpha$ (hay khoảng tin cậy)\n",
        "\n",
        "Bước 4: Lấy mẫu và tính toán các đại lượng thống kê của mẫu\n",
        "\n",
        "Bước 5: Thực hiện kiểm định z (z-test)\n",
        "\n",
        "Bước 6: Kết luận dựa vào kết quả kiểm định"
      ]
    },
    {
      "cell_type": "markdown",
      "metadata": {
        "id": "iQCIZzX__vgj"
      },
      "source": [
        "KIỂM ĐỊNH GIẢ THUYẾT MỘT ĐUÔI \n",
        "\n",
        "1. Kỹ thuật sinh dữ liệu ngẫu nhiên\n",
        "\n",
        "Sinh các mẫu ngẫu nhiên lấy ra từ phân phối chuẩn bằng hàm random.normal() với các tham số:\n",
        "\n",
        "- mean: giá trị trung bình của quần thể\n",
        "\n",
        "- scale: độ lệch chuẩn của quần thể (không âm)\n",
        "\n",
        "- size: kích thước mẫu"
      ]
    },
    {
      "cell_type": "code",
      "execution_count": 4,
      "metadata": {
        "id": "DEfxWngY_vgk"
      },
      "outputs": [],
      "source": [
        "#Sinh ngẫu nhiên 1000 mẫu tuân theo phân phối chuẩn có trung bình mẫu là 1 và độ lệch chuẩn là 0.1\n",
        "mean = 1\n",
        "std = 0.1\n",
        "N = 1000\n",
        "samples = np.random.normal(mean, std, N)"
      ]
    },
    {
      "cell_type": "code",
      "execution_count": 5,
      "metadata": {
        "colab": {
          "base_uri": "https://localhost:8080/"
        },
        "id": "ytZuVdZq_vgl",
        "outputId": "8b108213-df7c-49f7-abe0-6f7a9fb6226b"
      },
      "outputs": [
        {
          "output_type": "stream",
          "name": "stdout",
          "text": [
            "[0.98324646 1.05926489 0.95050063 1.02699472 0.79172485 1.12177174\n",
            " 0.9381808  1.08898524 1.05231788 0.90238745]\n"
          ]
        }
      ],
      "source": [
        "#In ra 10 phần tử đầu tiên\n",
        "print(samples[:10])"
      ]
    },
    {
      "cell_type": "code",
      "execution_count": 6,
      "metadata": {
        "colab": {
          "base_uri": "https://localhost:8080/"
        },
        "id": "xNxXLhb5_vgn",
        "outputId": "673263e9-23b3-49ed-a500-20d1714df3c6"
      },
      "outputs": [
        {
          "output_type": "stream",
          "name": "stdout",
          "text": [
            "Max:  1.3575461214359843\n",
            "Min:  0.6756461670089101\n"
          ]
        }
      ],
      "source": [
        "#In ra các giá trị max, min của samples\n",
        "print('Max: ', max(samples))\n",
        "print('Min: ', min(samples))"
      ]
    },
    {
      "cell_type": "code",
      "execution_count": 7,
      "metadata": {
        "colab": {
          "base_uri": "https://localhost:8080/",
          "height": 469
        },
        "id": "brLhXa_q_vgo",
        "outputId": "b3bff4a5-be6b-4603-c00d-94de4dc11446"
      },
      "outputs": [
        {
          "output_type": "display_data",
          "data": {
            "text/plain": [
              "<Figure size 936x540 with 1 Axes>"
            ],
            "image/png": "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\n"
          },
          "metadata": {}
        }
      ],
      "source": [
        "#Vẽ histogram của mẫu vừa được sinh ngẫu nhiên\n",
        "plt.hist(samples, 30, density=True)\n",
        "plt.show()"
      ]
    },
    {
      "cell_type": "code",
      "execution_count": 8,
      "metadata": {
        "colab": {
          "base_uri": "https://localhost:8080/",
          "height": 469
        },
        "id": "DlcAUJAR_vgp",
        "outputId": "0716e336-8d88-4378-c1b9-ded8e270e77b"
      },
      "outputs": [
        {
          "output_type": "display_data",
          "data": {
            "text/plain": [
              "<Figure size 936x540 with 1 Axes>"
            ],
            "image/png": "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\n"
          },
          "metadata": {}
        }
      ],
      "source": [
        "#Vẽ đường phân phối chuẩn cùng với histogram\n",
        "count, bins, ignored = plt.hist(samples, 30, density=True)\n",
        "plt.plot(bins, 1/(std * np.sqrt(2 * np.pi)) * np.exp( - (bins - mean)**2 / (2 * std**2) ),\n",
        "         linewidth=2, color='r')\n",
        "plt.show()"
      ]
    },
    {
      "cell_type": "code",
      "execution_count": 9,
      "metadata": {
        "colab": {
          "base_uri": "https://localhost:8080/",
          "height": 533
        },
        "id": "PuybcLaf_vgq",
        "outputId": "c177e953-1b42-44a8-cb23-9c41c6a20cc5"
      },
      "outputs": [
        {
          "output_type": "display_data",
          "data": {
            "text/plain": [
              "<Figure size 936x540 with 1 Axes>"
            ],
            "image/png": "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\n"
          },
          "metadata": {}
        }
      ],
      "source": [
        "#Sinh ngẫu nhiên 6000 mẫu theo phân phối chuẩn có mean = 0 và std = 10\n",
        "samples = np.random.normal(loc=0, scale=10, size=6000)\n",
        "#Minh họa một đuôi và mức alpha = 0.05\n",
        "two_std_from_mean = np.mean(samples) + np.std(samples)*1.645\n",
        "#kernel density\n",
        "kde = stats.gaussian_kde(samples)\n",
        "#Trả về 10000 giá trị phân bố bằng nhau trong khoảng từ min tới max của samples \n",
        "pos = np.linspace(np.min(samples), np.max(samples), 10000)\n",
        "plt.plot(pos, kde(pos), color='teal')\n",
        "shade = np.linspace(two_std_from_mean, 40, 300)\n",
        "plt.fill_between(shade, kde(shade), alpha=0.45, color='teal')\n",
        "plt.title(\"Phân phối mẫu của kiểm định giả thuyết 1 đuôi\", y=1.015, fontsize=20)\n",
        "plt.xlabel(\"giá trị trung bình mẫu\", labelpad=14)\n",
        "plt.ylabel(\"tần suất xuất hiện\", labelpad=14);"
      ]
    },
    {
      "cell_type": "markdown",
      "metadata": {
        "id": "zDvKCh98_vgr"
      },
      "source": [
        "2. Hình minh họa các kiểm định 1-đuôi, 2-đuôi"
      ]
    },
    {
      "cell_type": "code",
      "execution_count": 10,
      "metadata": {
        "colab": {
          "base_uri": "https://localhost:8080/",
          "height": 321
        },
        "id": "6QEQDZSH_vgt",
        "outputId": "6b141263-4046-492f-e6f4-685eb7e686dd"
      },
      "outputs": [
        {
          "output_type": "execute_result",
          "data": {
            "text/plain": [
              "<IPython.core.display.Image object>"
            ],
            "text/html": [
              "<img src=\"https://media.geeksforgeeks.org/wp-content/uploads/20201028032933/Screenshot37.png\" width=\"300\" height=\"300\"/>"
            ]
          },
          "metadata": {},
          "execution_count": 10
        }
      ],
      "source": [
        "# Sử dụng hình minh họa\n",
        "from IPython.display import Image\n",
        "from IPython.core.display import HTML \n",
        "Image(url= \"https://media.geeksforgeeks.org/wp-content/uploads/20201028032933/Screenshot37.png\", width=300, height=300)"
      ]
    },
    {
      "cell_type": "code",
      "execution_count": 11,
      "metadata": {
        "colab": {
          "base_uri": "https://localhost:8080/",
          "height": 321
        },
        "id": "PqakGkRs_vgv",
        "outputId": "2a9d0846-3b07-47dc-b114-bdacf90b5a62"
      },
      "outputs": [
        {
          "output_type": "execute_result",
          "data": {
            "text/plain": [
              "<IPython.core.display.Image object>"
            ],
            "text/html": [
              "<img src=\"https://media.geeksforgeeks.org/wp-content/uploads/20201028032937/Screenshot39.png\" width=\"300\" height=\"300\"/>"
            ]
          },
          "metadata": {},
          "execution_count": 11
        }
      ],
      "source": [
        "Image(url= \"https://media.geeksforgeeks.org/wp-content/uploads/20201028032937/Screenshot39.png\", width=300, height=300)"
      ]
    },
    {
      "cell_type": "code",
      "execution_count": 12,
      "metadata": {
        "colab": {
          "base_uri": "https://localhost:8080/",
          "height": 321
        },
        "id": "U-FjZqUq_vgv",
        "outputId": "649ff00b-2ed2-4b8f-aea0-57ea151e18c9"
      },
      "outputs": [
        {
          "output_type": "execute_result",
          "data": {
            "text/plain": [
              "<IPython.core.display.Image object>"
            ],
            "text/html": [
              "<img src=\"https://media.geeksforgeeks.org/wp-content/uploads/20201028032935/Screenshot38.png\" width=\"300\" height=\"300\"/>"
            ]
          },
          "metadata": {},
          "execution_count": 12
        }
      ],
      "source": [
        "Image(url= \"https://media.geeksforgeeks.org/wp-content/uploads/20201028032935/Screenshot38.png\", width=300, height=300)"
      ]
    },
    {
      "cell_type": "markdown",
      "metadata": {
        "id": "uHG9qFUl_vgw"
      },
      "source": [
        "3. Xây dựng một kiểm định z cụ thể với số liệu được sinh ngẫu nhiên theo phân phối chuẩn\n",
        "\n",
        "Bài toán: Giả sử lấy ra ngẫu nhiên 50 học sinh đang theo học chương trình tài năng và có IQ trung bình của nhóm này là 110. Biết giá trị trung bình của quần thể là 100 và độ lệch chuẩn là 15. Liệu với độ tin cậy là 95% (hay hệ số sig - significance level) - 5%) có thể nhận định học sinh theo học chương trình tài năng nói trên thông minh hơn học sinh thông thường hay không? \n",
        "\n",
        "Xây dựng giả thuyết\n",
        "\n",
        "$$H_{0}: \\mu = 100$$\n",
        "\n",
        "Giả thuyết thay thế: \n",
        "\n",
        "$$H_{a}: \\mu > 100 $$\n",
        "\n",
        "với:\n",
        "\n",
        "- Hệ số sig = 0.05\n",
        "- Chỉ số z tương ứng với hệ số sig ở trên là 1.645\n",
        "\n",
        "Công thức:\n",
        "$$Z = \\frac{(\\overline{\\rm X} - \\mu)}{(\\sigma / \\sqrt{n})}$$\n",
        "\n",
        "Áp dụng với các giá trị nêu trên:\n",
        "\n",
        "- $\\overline{\\rm X} = 110$\n",
        "- $\\mu = 100$\n",
        "- $\\sigma = 15$\n",
        "- $\\alpha = 0.05$\n",
        "- $n =50$\n",
        "\n",
        "$$Z = \\frac{(110 - 100)}{(15 / \\sqrt{50})} = 4.71$$\n",
        "\n",
        "Giá trị z = 4.71 > 1.645 nên có bằng chứng để bác bỏ giả thuyết $H_{0}$\n"
      ]
    },
    {
      "cell_type": "markdown",
      "metadata": {
        "id": "4Gdxfp6f_vgx"
      },
      "source": [
        "Lập trình Python cho bài toán nêu trên"
      ]
    },
    {
      "cell_type": "code",
      "execution_count": 14,
      "metadata": {
        "colab": {
          "base_uri": "https://localhost:8080/"
        },
        "id": "1uG8ktwM_vgx",
        "outputId": "3fec270c-5588-4465-d331-83d0027efb92"
      },
      "outputs": [
        {
          "output_type": "stream",
          "name": "stdout",
          "text": [
            "[107.06008441  96.77390156 107.83557123 122.49933272  93.67252617\n",
            " 114.6813133  112.53356878  90.00541751 114.96953952 110.36643563]\n"
          ]
        }
      ],
      "source": [
        "#Sinh ngẫu nhiên một mẫu 50 phần tử có trung bình mẫu là 110, độ lệch chuẩn là 15\n",
        "samples = np.random.normal(110, 15, 50)\n",
        "print(samples[:10])"
      ]
    },
    {
      "cell_type": "code",
      "execution_count": 15,
      "metadata": {
        "id": "9S1g1yif_vgy"
      },
      "outputs": [],
      "source": [
        "#Xác định các thông số\n",
        "null_mean = 100\n",
        "alpha = 0.05"
      ]
    },
    {
      "cell_type": "code",
      "execution_count": 16,
      "metadata": {
        "colab": {
          "base_uri": "https://localhost:8080/"
        },
        "id": "zHMe2PWZ_vgy",
        "outputId": "f7bea063-07b1-4dc4-d522-22e591db4898"
      },
      "outputs": [
        {
          "output_type": "stream",
          "name": "stdout",
          "text": [
            "Có bằng chứng để bác bỏ giả thuyết H0\n"
          ]
        }
      ],
      "source": [
        "#Kiểm định z\n",
        "ztest_Score, p_value= ztest(samples, value = null_mean, alternative='larger')\n",
        "if(p_value <  alpha):\n",
        "  print(\"Có bằng chứng để bác bỏ giả thuyết H0\")\n",
        "else:\n",
        "  print(\"Chưa có bằng chứng để bác bỏ giả thuyết H0\")"
      ]
    },
    {
      "cell_type": "markdown",
      "metadata": {
        "id": "mGQV4KvX_vgy"
      },
      "source": [
        "Kiểm định giả thuyết 2-đuôi\n",
        "\n",
        "Một cách tổng quát, giả sử chúng ta có 2 quần thể độc lập và tuân theo phân phối chuẩn. Lấy ra 2 mẫu ngẫu nhiên tử 2 quần thể này.\n",
        "\n",
        "Xây dựng giả thuyết:\n",
        "\n",
        "$$H_{0}: \\mu_{1} = \\mu_{2}$$\n",
        "\n",
        "Giả thuyết thay thế:\n",
        "\n",
        "$$H_{a}: \\mu_{1} \\neq \\mu_{2}$$\n",
        "\n",
        "Thực hiện kiểm định z và so sánh với giá trị $z_{\\frac{\\alpha}{2}}$ để đi đến kết luận cuối cùng."
      ]
    },
    {
      "cell_type": "code",
      "execution_count": 17,
      "metadata": {
        "colab": {
          "base_uri": "https://localhost:8080/"
        },
        "id": "cK3RwQcd_vgz",
        "outputId": "b5a26dfe-7741-44e9-9dc9-aed764f85856"
      },
      "outputs": [
        {
          "output_type": "stream",
          "name": "stdout",
          "text": [
            "[22.72909175 20.91246359 23.52736383  9.81278264 18.702077   11.7583725\n",
            " 19.73940849 26.90878389 14.04873588 14.97200389]\n"
          ]
        }
      ],
      "source": [
        "#Lập trình python minh họa\n",
        "#Sinh ngẫu nhiên sample 1 có 50 phần tử với mean = 15 std = 6\n",
        "samples_1 = np.random.normal(15, 6, 50)\n",
        "print(samples_1[:10])"
      ]
    },
    {
      "cell_type": "code",
      "execution_count": 18,
      "metadata": {
        "colab": {
          "base_uri": "https://localhost:8080/"
        },
        "id": "ojQjUuUm_vgz",
        "outputId": "0dac47ca-6418-40bb-8e31-6865ea8ed5f5"
      },
      "outputs": [
        {
          "output_type": "stream",
          "name": "stdout",
          "text": [
            "[14.55022509 22.6751215  20.71115519 27.5161018  21.48830922 28.24812943\n",
            " 14.91618262 18.79920696 16.85422295 12.62554695]\n"
          ]
        }
      ],
      "source": [
        "#Sinh ngẫu nhiên sample 2 có 60 phần tử với mean = 19 std = 7\n",
        "samples_2 = np.random.normal(19, 7, 60)\n",
        "print(samples_2[:10])"
      ]
    },
    {
      "cell_type": "code",
      "execution_count": 19,
      "metadata": {
        "colab": {
          "base_uri": "https://localhost:8080/"
        },
        "id": "ECJqHvX7_vg0",
        "outputId": "51af76b2-cd11-421d-e7fc-c457254d6eb4"
      },
      "outputs": [
        {
          "output_type": "stream",
          "name": "stdout",
          "text": [
            "z =  -0.5247998941329692 ; p =  0.5997223051446305\n",
            "Chưa có bằng chứng để bác bỏ giả thuyết H0\n"
          ]
        }
      ],
      "source": [
        "#Kiểm định giả thuyết \n",
        "alpha = 0.05\n",
        "ztest_score, p_value = ztest(x1 = samples_1, x2 = samples_2, value = 15 - 19, alternative = 'two-sided')\n",
        "print('z = ', ztest_score, '; p = ', p_value)\n",
        "if(p_value <  alpha):\n",
        "  print(\"Có bằng chứng để bác bỏ giả thuyết H0\")\n",
        "else:\n",
        "  print(\"Chưa có bằng chứng để bác bỏ giả thuyết H0\")"
      ]
    },
    {
      "cell_type": "markdown",
      "source": [
        "Thực hành kiểm định T:"
      ],
      "metadata": {
        "id": "PjnJrbBgA8L4"
      }
    },
    {
      "cell_type": "markdown",
      "source": [
        "# T test 1-đuôi\n",
        "\n",
        "Is the average capacity of batteries less than 140 ampere-hours? A random sample of 20 batteries had a mean of 138.47 and a standard deviation of 2.66. Assume a normal distribution. Test at the .05 level of significance. One-Tailed t Test Solution\n",
        "\n"
          "  One-Tailed t Test Solution\n",
    "H0: μ = 140\n",
    "\n",
    "Ha: μ < 140\n",
    "\n",
    "α = .05\n",
    "\n",
    "df =20 – 1 = 19  \n",
    "\n",
    "Critical Value(s):\n",
    "\n",
    "Test Statistic:\n",
    " Hệ số sig = 0.05\n",
    "Chỉ số t tương ứng với hệ số sig ở trên là -1.729\n",
    "t = ( x̄ – μ) / (s / √n)\n",
    "Áp dụng với các giá trị nêu trên:\n",
    "\n",
    "X¯¯¯¯ = 138.47\n",
    "μ = 140\n",
    "σ = 2.66\n",
    "α = 0.05 \n",
    "df = 20 - 1\n",
    "t = -2.57\n",
    "Giá trị t = -2.57 < -1.729 nên có bằng chứng để bác bỏ giả thuyết  H0."
      ],
      "metadata": {
        "id": "76PAwnjGA5JA"
      }
    },
    {
      "cell_type": "code",
      "source": [
        "#Sinh ngẫu nhiên một mẫu 25 phần tử có trung bình mẫu là 138.47, độ lệch chuẩn là 2.66\n",
        "we = np.random.normal(138.47, 2.66, 20)\n",
        "print(samples[:10])"
      ],
      "metadata": {
        "colab": {
          "base_uri": "https://localhost:8080/"
        },
        "id": "eOMslT_1BgXa",
        "outputId": "d9e26a99-27e7-4ae0-f517-09a2452b3e8b"
      },
      "execution_count": 30,
      "outputs": [
        {
          "output_type": "stream",
          "name": "stdout",
          "text": [
            "[107.06008441  96.77390156 107.83557123 122.49933272  93.67252617\n",
            " 114.6813133  112.53356878  90.00541751 114.96953952 110.36643563]\n"
          ]
        }
      ]
    },
    {
      "cell_type": "code",
      "source": [
        "#Xác định các thông số\n",
        "alpha = 0.05"
      ],
      "metadata": {
        "id": "nf6vS43dBiiB"
      },
      "execution_count": 31,
      "outputs": []
    },
    {
      "cell_type": "code",
      "source": [
        "#Kiểm định t one sample\n",
        "ttest_Score, p_value = st.ttest_1samp(we, 140)\n",
        "print('t = ',ttest_Score,', p = ',p_value)\n",
        "if(p_value <  alpha):\n",
        "  print(\"Có bằng chứng để bác bỏ giả thuyết H0\")\n",
        "else:\n",
        "  print(\"Chưa có bằng chứng để bác bỏ giả thuyết H0\")"
      ],
      "metadata": {
        "colab": {
          "base_uri": "https://localhost:8080/"
        },
        "id": "AwyZ2ACeBjSJ",
        "outputId": "5260715a-348a-4bcc-84fa-ddd689f2b1d4"
      },
      "execution_count": 32,
      "outputs": [
        {
          "output_type": "stream",
          "name": "stdout",
          "text": [
            "t =  -2.568582402277081 , p =  0.018802240547489656\n",
            "Có bằng chứng để bác bỏ giả thuyết H0\n"
          ]
        }
      ]
    },
    {
      "cell_type": "markdown",
      "source": [
        "# T test 2-đuôi\n",
        "                          Small-Sample Test\n",
        "Example\n",
        "\n",
        "You’re a financial analyst for Charles Schwab. Is there a difference in dividend yield between stocks listed on the NYSE and NASDAQ? You collect the following data:\n",
        "\n",
        "          NYSE               NASDAQ\n",
        "Number     11                  15\n",
        "\n",
        "Mean      3.27                2.53\n",
        "\n",
        "Std Dev  1.30                 1.16\n",
        "\n",
        "Assuming normal populations, And population variances are equal is there a difference in average yield (α = .05)?\n",
        "\n",
        "\n"
      ],
      "metadata": {
        "id": "MR4ZkRw5B8HZ"
      }
    },
    {
      "cell_type": "code",
      "source": [
        "#Lập trình python minh họa\n",
        "#Sinh ngẫu nhiên NYSE có 11 phần tử với mean = 3.27 std = 1.3\n",
        "NYSE = np.random.normal(3.27, 1.3, 11)\n",
        "print(NYSE[:10])"
      ],
      "metadata": {
        "colab": {
          "base_uri": "https://localhost:8080/"
        },
        "id": "95zw8iNoB9u_",
        "outputId": "2d438876-4054-4ea5-9cf1-50fc13fcd4d8"
      },
      "execution_count": 33,
      "outputs": [
        {
          "output_type": "stream",
          "name": "stdout",
          "text": [
            "[1.16611763 1.93825064 3.86982357 6.37090384 0.60604449 2.88981624\n",
            " 3.03414711 6.07717386 2.58427859 3.54516824]\n"
          ]
        }
      ]
    },
    {
      "cell_type": "code",
      "source": [
        "#Sinh ngẫu nhiên  NASDAQ có 15 phần tử với mean = 2.53 std = 1.16\n",
        "NASDAQ = np.random.normal(2.53, 1.16, 15)\n",
        "print(NASDAQ[:10])"
      ],
      "metadata": {
        "colab": {
          "base_uri": "https://localhost:8080/"
        },
        "id": "8kmQXrDvEVty",
        "outputId": "aa81c4c4-6192-48ae-8d7a-610de599c9ea"
      },
      "execution_count": 34,
      "outputs": [
        {
          "output_type": "stream",
          "name": "stdout",
          "text": [
            "[3.80585118 2.06326095 4.52033877 2.6816804  2.53238633 1.31232246\n",
            " 1.83013066 3.74614059 0.84973894 2.07351368]\n"
          ]
        }
      ]
    },
    {
      "cell_type": "code",
      "source": [
        "# Vẽ biểu đồ của 2 mẫu mới sinh\n",
        "\n",
        "plt.figure()\n",
        "ax1 = sns.distplot(NYSE)\n",
        "ax2 = sns.distplot(NASDAQ)\n",
        "plt.axvline(np.mean(NYSE), color='b', linestyle='dashed', linewidth=5)\n",
        "plt.axvline(np.mean(NASDAQ), color='orange', linestyle='dashed', linewidth=5)"
      ],
      "metadata": {
        "colab": {
          "base_uri": "https://localhost:8080/",
          "height": 303
        },
        "id": "k3O02YmtEWfJ",
        "outputId": "0d7fcfa5-cfb0-4b65-ecd1-aaaaace6b54d"
      },
      "execution_count": 35,
      "outputs": [
        {
          "output_type": "execute_result",
          "data": {
            "text/plain": [
              "<matplotlib.lines.Line2D at 0x7f9987945610>"
            ]
          },
          "metadata": {},
          "execution_count": 35
        },
        {
          "output_type": "display_data",
          "data": {
            "text/plain": [
              "<Figure size 432x288 with 1 Axes>"
            ],
            "image/png": "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\n"
          },
          "metadata": {
            "needs_background": "light"
          }
        }
      ]
    },
    {
      "cell_type": "code",
      "source": [
        "#Kiểm định giả thuyết \n",
        "alpha = 0.05\n",
        "ttest_score, p_value = stats.ttest_ind(NYSE, NASDAQ)\n",
        "print('t = ', ttest_score, '; p = ', p_value)\n",
        "if(p_value <  alpha/2):\n",
        "  print(\"Có bằng chứng để bác bỏ giả thuyết H0\")\n",
        "else:\n",
        "  print(\"Chưa có bằng chứng để bác bỏ giả thuyết H0\")"
      ],
      "metadata": {
        "colab": {
          "base_uri": "https://localhost:8080/"
        },
        "id": "pcAEpW38EZS5",
        "outputId": "acdfd88d-f0c3-4b02-ab33-1b2555ac249e"
      },
      "execution_count": 36,
      "outputs": [
        {
          "output_type": "stream",
          "name": "stdout",
          "text": [
            "t =  1.6284240903675216 ; p =  0.11649290727804872\n",
            "Chưa có bằng chứng để bác bỏ giả thuyết H0\n"
          ]
        }
      ]
    },
    {
      "cell_type": "code",
      "source": [
        "#Kiểm định giả thuyết \n",
        "ttest_score, p_value = stats.ttest_ind(NASDAQ, NYSE)\n",
        "print('t = ', ttest_score, '; p = ', p_value)\n",
        "if(p_value <  alpha/2):\n",
        "  print(\"Có bằng chứng để bác bỏ giả thuyết H0\")\n",
        "else:\n",
        "  print(\"Chưa có bằng chứng để bác bỏ giả thuyết H0\")"
      ],
      "metadata": {
        "colab": {
          "base_uri": "https://localhost:8080/"
        },
        "id": "0UymuzDUEddA",
        "outputId": "8968927b-b85b-4ff5-a4e0-c17964017fdf"
      },
      "execution_count": 37,
      "outputs": [
        {
          "output_type": "stream",
          "name": "stdout",
          "text": [
            "t =  -1.6284240903675216 ; p =  0.11649290727804872\n",
            "Chưa có bằng chứng để bác bỏ giả thuyết H0\n"
          ]
        }
      ]
    }
  ],
  "metadata": {
    "kernelspec": {
      "display_name": "Python 3",
      "language": "python",
      "name": "python3"
    },
    "language_info": {
      "codemirror_mode": {
        "name": "ipython",
        "version": 3
      },
      "file_extension": ".py",
      "mimetype": "text/x-python",
      "name": "python",
      "nbconvert_exporter": "python",
      "pygments_lexer": "ipython3",
      "version": "3.7.3"
    },
    "colab": {
      "name": "huong-dan-kiem-dinh-z.ipynb",
      "provenance": [],
      "include_colab_link": true
    }
  },
  "nbformat": 4,
  "nbformat_minor": 0
}
